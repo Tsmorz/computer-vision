{
 "cells": [
  {
   "cell_type": "markdown",
   "metadata": {
    "id": "oSp9VbeFb0AS"
   },
   "source": [
    "Tony Smoragiewicz"
   ]
  },
  {
   "cell_type": "code",
   "execution_count": 830,
   "metadata": {
    "executionInfo": {
     "elapsed": 227,
     "status": "ok",
     "timestamp": 1633444712350,
     "user": {
      "displayName": "Tony Smoragiewicz",
      "photoUrl": "https://lh3.googleusercontent.com/a-/AOh14GjoNXleYy3tWkSCggDMKv2dscLdHUCSmkPOvvNBZs0=s64",
      "userId": "08159420652727897962"
     },
     "user_tz": -120
    },
    "id": "0aqhu7T-bdh3"
   },
   "outputs": [],
   "source": [
    "# import libraries\n",
    "import numpy as np\n",
    "import cv2 as cv\n",
    "import matplotlib.pyplot as plt"
   ]
  },
  {
   "cell_type": "markdown",
   "metadata": {
    "id": "tHxzWY7W8p3f"
   },
   "source": [
    "\\textbf{Problem #1}\n",
    "#Problem #1\n",
    "The average of the stand. dev. of noise in the images is equal to the sigma we originally set when adding noise. In addition, the maximum stand. dev. of the noise is twice the sigma. These are both reduced by a factor of the width of the box filter after we complete the smoothing. This shows that a box filter is a good way of reducing random noise during image processing."
   ]
  },
  {
   "cell_type": "code",
   "execution_count": 831,
   "metadata": {
    "executionInfo": {
     "elapsed": 212,
     "status": "ok",
     "timestamp": 1633444713952,
     "user": {
      "displayName": "Tony Smoragiewicz",
      "photoUrl": "https://lh3.googleusercontent.com/a-/AOh14GjoNXleYy3tWkSCggDMKv2dscLdHUCSmkPOvvNBZs0=s64",
      "userId": "08159420652727897962"
     },
     "user_tz": -120
    },
    "id": "EPn_ThuPb8eQ"
   },
   "outputs": [
    {
     "name": "stdout",
     "output_type": "stream",
     "text": [
      "Original\n",
      "The average noise is: 4.856\n",
      "The max noise is: 10.204\n",
      "The max-to-avg noise is: 2.101\n",
      "Smoothed\n",
      "The average noise is: 1.627\n",
      "The max noise is: 3.829\n",
      "The max-to-avg noise is: 2.101\n"
     ]
    }
   ],
   "source": [
    "# Create 10 images with grayscale value 128\n",
    "num = 10\n",
    "rowcol = 256\n",
    "images = 128*np.ones([rowcol,rowcol,num])\n",
    "\n",
    "# Add noise to the images\n",
    "sigma = 5\n",
    "mean = 0\n",
    "noise = sigma*np.random.randn(rowcol,rowcol,num) + mean\n",
    "images = images+noise\n",
    "\n",
    "# Signal to noise ratio\n",
    "avg_image = np.mean(images,axis=2)\n",
    "avg_images = np.repeat(avg_image[:, :, np.newaxis], num, axis=2)\n",
    "\n",
    "EST_NOISE = np.sqrt( 1/(num-1)*np.sum( (avg_images-images)**2, axis=2) )\n",
    "avg_EST_NOISE = np.mean(EST_NOISE)\n",
    "max_EST_NOISE = np.amax(EST_NOISE)\n",
    "\n",
    "print('Original')\n",
    "print('The average noise is:', np.round(avg_EST_NOISE,3))\n",
    "print('The max noise is:', np.round(max_EST_NOISE,3))\n",
    "print('The max-to-avg noise is:', np.round(max_EST_NOISE/avg_EST_NOISE,3))\n",
    "\n",
    "# Smooth images with 3x3 box filter\n",
    "width = 3\n",
    "images_smoothed = cv.blur(images, (width, width))\n",
    "avg_image_smoothed = np.mean(images_smoothed,axis=2)\n",
    "avg_images_smoothed = np.repeat(avg_image_smoothed[:, :, np.newaxis], num, axis=2)\n",
    "\n",
    "EST_NOISE_smoothed = np.sqrt( 1/(num-1)*np.sum( (avg_images_smoothed-images_smoothed)**2, axis=2) )\n",
    "avg_EST_NOISE_smoothed = np.mean(EST_NOISE_smoothed)\n",
    "max_EST_NOISE_smoothed = np.amax(EST_NOISE_smoothed)\n",
    "\n",
    "print('Smoothed')\n",
    "print('The average noise is:', np.round(avg_EST_NOISE_smoothed,3))\n",
    "print('The max noise is:', np.round(max_EST_NOISE_smoothed,3))\n",
    "print('The max-to-avg noise is:', np.round(max_EST_NOISE/avg_EST_NOISE,3))"
   ]
  },
  {
   "cell_type": "markdown",
   "metadata": {
    "id": "tMfK2gYR8sel"
   },
   "source": [
    "#Problem #2\n",
    "Two 1D guassian filters were calculated by taking the squareroot of the diagonals of a 2D gaussian filter. A width of 5 and 7 were used because this corresponds to 2 and 3 sigma which is ~95% and ~99% of the area of the bell curve."
   ]
  },
  {
   "cell_type": "code",
   "execution_count": 832,
   "metadata": {
    "id": "DYcijULQ8vTT"
   },
   "outputs": [
    {
     "name": "stdout",
     "output_type": "stream",
     "text": [
      "The 1D gaussian filter with a width of 5 is:\n",
      "[0.029 0.104 0.223 0.288 0.223 0.104 0.029]\n",
      "\n",
      "The 1D gaussian filter with a width of 7 is:\n",
      "[0.005 0.029 0.103 0.221 0.285 0.221 0.103 0.029 0.005]\n"
     ]
    }
   ],
   "source": [
    "def Gauss1D(sigma, factor):\n",
    "    window = np.int(np.floor(sigma*factor))\n",
    "    gauss2d = np.ones([window,window])\n",
    "    offset = np.floor(window/2)\n",
    "    for i in range(window):\n",
    "        for j in range(window):\n",
    "            gauss2d[i,j] = np.exp( -1/(2*sigma**2)*( (i-offset)**2 + (j-offset)**2 ) )\n",
    "    gauss2d = gauss2d/np.sum(gauss2d)\n",
    "\n",
    "    diag = gauss2d*np.identity(gauss2d.shape[0])\n",
    "    diag = diag[diag>0]\n",
    "    gauss1d = np.sqrt(diag)\n",
    "    return gauss1d\n",
    "\n",
    "gauss1d = Gauss1D(1.4,5)\n",
    "print('The 1D gaussian filter with a width of 5 is:')\n",
    "print(np.around(gauss1d, 3) )\n",
    "print()\n",
    "\n",
    "gauss1d = Gauss1D(1.4,7)\n",
    "print('The 1D gaussian filter with a width of 7 is:') \n",
    "print(np.around(gauss1d, 3) )"
   ]
  },
  {
   "cell_type": "markdown",
   "metadata": {
    "id": "1TIpU0GU9MiN"
   },
   "source": [
    "#Problem #3\n",
    "Consider the following two averaging filters used to clean images:"
   ]
  },
  {
   "cell_type": "code",
   "execution_count": 833,
   "metadata": {
    "colab": {
     "base_uri": "https://localhost:8080/"
    },
    "executionInfo": {
     "elapsed": 8,
     "status": "ok",
     "timestamp": 1633444718830,
     "user": {
      "displayName": "Tony Smoragiewicz",
      "photoUrl": "https://lh3.googleusercontent.com/a-/AOh14GjoNXleYy3tWkSCggDMKv2dscLdHUCSmkPOvvNBZs0=s64",
      "userId": "08159420652727897962"
     },
     "user_tz": -120
    },
    "id": "BW7Pdefk9P2n",
    "outputId": "1d885669-0f6f-4753-e635-42324ed60a3f"
   },
   "outputs": [
    {
     "name": "stdout",
     "output_type": "stream",
     "text": [
      "Filter (a) output with zero padding:\n",
      "[ 6.  8. 10. 16. 22. 28. 34. 40. 32. 24.]\n",
      "Filter (b) output with zero padding:\n",
      "[ 7.  9. 10. 13. 19. 31. 37. 40. 36. 28.]\n"
     ]
    }
   ],
   "source": [
    "img = np.array([10.,10.,10.,10.,10.,40.,40.,40.,40.,40.])\n",
    "pad = np.hstack([0.,0.,img,0.,0.])\n",
    "avg_const = 1/5*np.array([1,1,1,1,1])\n",
    "\n",
    "output = np.zeros(img.shape)\n",
    "for i in range(img.size):\n",
    "  output[i] = np.dot(pad[i:i+avg_const.size], avg_const)\n",
    "print('Filter (a) output with zero padding:')\n",
    "print(output)\n",
    "\n",
    "avg_gauss = 1/10*np.array([1,2,4,2,1])\n",
    "output = np.zeros(img.shape)\n",
    "for i in range(img.size):\n",
    "  output[i] = np.dot(pad[i:i+avg_gauss.size], avg_gauss)\n",
    "print('Filter (b) output with zero padding:')\n",
    "print(output)"
   ]
  },
  {
   "cell_type": "markdown",
   "metadata": {
    "id": "uCjv65ih--ya"
   },
   "source": [
    "#Problem #4"
   ]
  },
  {
   "cell_type": "code",
   "execution_count": 834,
   "metadata": {
    "colab": {
     "base_uri": "https://localhost:8080/"
    },
    "executionInfo": {
     "elapsed": 212,
     "status": "ok",
     "timestamp": 1633443196162,
     "user": {
      "displayName": "Tony Smoragiewicz",
      "photoUrl": "https://lh3.googleusercontent.com/a-/AOh14GjoNXleYy3tWkSCggDMKv2dscLdHUCSmkPOvvNBZs0=s64",
      "userId": "08159420652727897962"
     },
     "user_tz": -120
    },
    "id": "Gg0ZlHf2_BLN",
    "outputId": "582e8197-86fb-4f99-c21e-b14159403443"
   },
   "outputs": [
    {
     "data": {
      "image/png": "[encoded data removed]",
      "text/plain": [
       "<Figure size 432x288 with 2 Axes>"
      ]
     },
     "metadata": {
      "needs_background": "light"
     },
     "output_type": "display_data"
    }
   ],
   "source": [
    "r = 100\n",
    "c = 100\n",
    "salt_pepper = 100*np.random.choice(np.arange(0, 2), r*c, p=[0.3, 0.7])\n",
    "salt_pepper = np.reshape(salt_pepper, [r,c])\n",
    "\n",
    "image = np.hstack([salt_pepper, 50*np.ones([r,1]), salt_pepper])\n",
    "plt.subplot(1,2,1)\n",
    "plt.title('Example of image')\n",
    "plt.imshow(image, cmap='gray', vmin=0, vmax=100)\n",
    "\n",
    "operator = np.array([-1,2,-1])\n",
    "operator = np.reshape(operator,[1,3])\n",
    "output = cv.filter2D(image, -1, operator)\n",
    "plt.subplot(1,2,2)\n",
    "plt.title('Example of image output')\n",
    "plt.imshow(output, cmap='gray', vmin=-100, vmax=100)\n",
    "plt.show()\n",
    "\n",
    "line = output[:,c]\n",
    "#plt.hist(line, [-100, 0, 100, 200])\n",
    "#plt.show()"
   ]
  },
  {
   "cell_type": "markdown",
   "metadata": {},
   "source": [
    "Operator is on the line"
   ]
  },
  {
   "cell_type": "code",
   "execution_count": 835,
   "metadata": {},
   "outputs": [
    {
     "name": "stdout",
     "output_type": "stream",
     "text": [
      "Chances of  100 are:  0.09\n",
      "Chances of    0 are:  0.42\n",
      "Chances of -100 are:  0.49\n"
     ]
    }
   ],
   "source": [
    "# Operator input possilibities\n",
    "options = np.array([[0, 50, 0],\n",
    "                    [0, 50, 100],\n",
    "                    [100, 50, 0],\n",
    "                    [100, 50, 100]])\n",
    "\n",
    "# Operator output possibilities\n",
    "output = np.sum(operator*options,axis=1)\n",
    "\n",
    "# Probabilities\n",
    "chances = np.array([0.3**2, 0.3*0.7, 0.7*0.3, 0.7**2])\n",
    "\n",
    "print(\"Chances of  100 are: \", np.round(chances[0],2))\n",
    "print(\"Chances of    0 are: \", np.round(chances[1]+chances[2],2))\n",
    "print(\"Chances of -100 are: \", np.round(chances[3],2))"
   ]
  },
  {
   "cell_type": "markdown",
   "metadata": {},
   "source": [
    "Operator is adjacent to the line"
   ]
  },
  {
   "cell_type": "code",
   "execution_count": 836,
   "metadata": {},
   "outputs": [
    {
     "name": "stdout",
     "output_type": "stream",
     "text": [
      "Chances of -150 are:  0.21\n",
      "Chances of  -50 are:  0.09\n",
      "Chances of   50 are:  0.49\n",
      "Chances of  150 are:  0.21\n"
     ]
    }
   ],
   "source": [
    "# Operator input possilibities\n",
    "options = np.array([[50, 0, 0],\n",
    "                    [50, 0, 100],\n",
    "                    [50, 100, 0],\n",
    "                    [50, 100, 100]])\n",
    "\n",
    "# Operator output possibilities\n",
    "output = np.sum(operator*options,axis=1)\n",
    "\n",
    "# Probabilities\n",
    "chances = np.array([0.3**2, 0.3*0.7, 0.7*0.3, 0.7**2])\n",
    "\n",
    "print(\"Chances of -150 are: \", np.round(chances[1],2))\n",
    "print(\"Chances of  -50 are: \", np.round(chances[0],2))\n",
    "print(\"Chances of   50 are: \", np.round(chances[3],2))\n",
    "print(\"Chances of  150 are: \", np.round(chances[2],2))"
   ]
  },
  {
   "cell_type": "markdown",
   "metadata": {
    "id": "lOtzM8iz_Baa"
   },
   "source": [
    "#Problem #5\n",
    "An 8x8 image I(i, j) has pixel values following the equation I(i, j) = |i − j| with i, j = 0, 1, . . . , 7\n",
    "Find the output image obtained by applying a 3 × 3 median filter on the image I. (Assume that the\n",
    "border pixels are not changed)"
   ]
  },
  {
   "cell_type": "code",
   "execution_count": 837,
   "metadata": {
    "colab": {
     "base_uri": "https://localhost:8080/"
    },
    "executionInfo": {
     "elapsed": 215,
     "status": "ok",
     "timestamp": 1633445198764,
     "user": {
      "displayName": "Tony Smoragiewicz",
      "photoUrl": "https://lh3.googleusercontent.com/a-/AOh14GjoNXleYy3tWkSCggDMKv2dscLdHUCSmkPOvvNBZs0=s64",
      "userId": "08159420652727897962"
     },
     "user_tz": -120
    },
    "id": "lL7R8Hin_DQJ",
    "outputId": "3ad231f5-2e3e-4772-c017-7ce637f6fcaa"
   },
   "outputs": [
    {
     "data": {
      "image/png": "[encoded data removed]",
      "text/plain": [
       "<Figure size 432x288 with 1 Axes>"
      ]
     },
     "metadata": {
      "needs_background": "light"
     },
     "output_type": "display_data"
    }
   ],
   "source": [
    "fxy = np.zeros([8,8])\n",
    "for i in range(8):\n",
    "  for j in range(8):\n",
    "    fxy[i,j] = abs(i-j)\n",
    "\n",
    "# Add zero padding\n",
    "fxy = np.hstack((np.zeros([fxy.shape[0],1]), fxy, np.zeros([fxy.shape[0],1])))\n",
    "fxy = np.vstack((np.zeros([1,fxy.shape[1]]), fxy, np.zeros([1,fxy.shape[1]])))\n",
    "fxy = np.uint8(fxy)\n",
    "fxy_med = cv.medianBlur(fxy,3)\n",
    "\n",
    "# Remove added border pixels\n",
    "fxy_med = fxy_med[1:-1,1:-1]\n",
    "\n",
    "plt.imshow(fxy_med, cmap='gray')\n",
    "plt.title('Median filter applied')\n",
    "plt.show()"
   ]
  },
  {
   "cell_type": "markdown",
   "metadata": {
    "id": "wk5QPtqs_D_F"
   },
   "source": [
    "#Problem #6\n",
    "Consider a 1D step profile\n",
    "f (i) =\n",
    "4 i ∈ [0, 3]\n",
    "8 i ∈ [4, 7]\n",
    "Work out the result of applying the median filtering with n = 3 and compare the result with the\n",
    "output of filtering with the averaging mask 1/4[1 2 1]."
   ]
  },
  {
   "cell_type": "code",
   "execution_count": 838,
   "metadata": {
    "colab": {
     "base_uri": "https://localhost:8080/"
    },
    "executionInfo": {
     "elapsed": 207,
     "status": "ok",
     "timestamp": 1633446429405,
     "user": {
      "displayName": "Tony Smoragiewicz",
      "photoUrl": "https://lh3.googleusercontent.com/a-/AOh14GjoNXleYy3tWkSCggDMKv2dscLdHUCSmkPOvvNBZs0=s64",
      "userId": "08159420652727897962"
     },
     "user_tz": -120
    },
    "id": "FeA3DmV2_FXX",
    "outputId": "1883574a-b7ba-4422-e025-98aab4c116ab"
   },
   "outputs": [
    {
     "name": "stdout",
     "output_type": "stream",
     "text": [
      "Median filter\n",
      "[[4 4 4 4 8 8 8 8]]\n",
      "Averaging mask\n",
      "[3. 4. 4. 5. 7. 8. 8. 6.]\n"
     ]
    }
   ],
   "source": [
    "img = np.array([4.,4.,4.,4.,8.,8.,8.,8.])\n",
    "pad = np.hstack([0.,img,0.])\n",
    "avg_const = 1/5*np.array([1,1,1])\n",
    "\n",
    "pad = np.uint8(pad)\n",
    "output = cv.medianBlur(pad,3)\n",
    "output = np.transpose(output[1:-1])\n",
    "print('Median filter')\n",
    "print(output)\n",
    "\n",
    "avg_gauss = 1/4*np.array([1,2,1])\n",
    "output = np.zeros(img.shape)\n",
    "for i in range(img.size):\n",
    "  output[i] = np.dot(pad[i:i+avg_gauss.size], avg_gauss)\n",
    "print('Averaging mask')\n",
    "print(output)"
   ]
  },
  {
   "cell_type": "markdown",
   "metadata": {
    "id": "XaXn4w35_Fmx"
   },
   "source": [
    "#Problem #7\n",
    "Consider a 8x8 image f(x,y) such that f (x, y) = |x − y| for x, y = 0, 1, . . . , 7 .\n",
    "(a) Find the magnitude and orientation of the gradient by using the Prewitt maks. (Disregard\n",
    "boundaries)\n",
    "(b) Repeat using the Sobel masks."
   ]
  },
  {
   "cell_type": "code",
   "execution_count": 839,
   "metadata": {
    "colab": {
     "base_uri": "https://localhost:8080/",
     "height": 1000
    },
    "executionInfo": {
     "elapsed": 932,
     "status": "ok",
     "timestamp": 1633441941450,
     "user": {
      "displayName": "Tony Smoragiewicz",
      "photoUrl": "https://lh3.googleusercontent.com/a-/AOh14GjoNXleYy3tWkSCggDMKv2dscLdHUCSmkPOvvNBZs0=s64",
      "userId": "08159420652727897962"
     },
     "user_tz": -120
    },
    "id": "_874DOCH_HPz",
    "outputId": "595c48e5-8490-42e3-ae9a-aa5ecc945b85"
   },
   "outputs": [
    {
     "data": {
      "image/png": "[encoded data removed]",
      "text/plain": [
       "<Figure size 432x288 with 2 Axes>"
      ]
     },
     "metadata": {
      "needs_background": "light"
     },
     "output_type": "display_data"
    },
    {
     "data": {
      "image/png": "[encoded data removed]",
      "text/plain": [
       "<Figure size 432x288 with 2 Axes>"
      ]
     },
     "metadata": {
      "needs_background": "light"
     },
     "output_type": "display_data"
    }
   ],
   "source": [
    "fxy = np.zeros([8,8])\n",
    "for i in range(8):\n",
    "  for j in range(8):\n",
    "    fxy[i,j] = abs(i-j)\n",
    "\n",
    "# Add zero padding\n",
    "fxy = np.hstack((np.zeros([fxy.shape[0],1]), fxy, np.zeros([fxy.shape[0],1])))\n",
    "fxy = np.vstack((np.zeros([1,fxy.shape[1]]), fxy, np.zeros([1,fxy.shape[1]])))\n",
    "\n",
    "\n",
    "Prewittx = np.array([[-1,0,1],\n",
    "                    [-1,0,1],\n",
    "                    [-1,0,1]])\n",
    "Prewitty = np.array([[-1,-1,-1],\n",
    "                    [0,0,0],\n",
    "                    [1,1,1]])\n",
    "Px = cv.filter2D(fxy,-1,Prewittx)\n",
    "Py = cv.filter2D(fxy,-1,Prewitty)\n",
    "\n",
    "# Remove added border pixels\n",
    "Px = Px[1:-1,1:-1]\n",
    "Py = Py[1:-1,1:-1]\n",
    "\n",
    "mag = np.sqrt(Px**2+Py**2)\n",
    "theta = np.arctan(Py,Px)\n",
    "\n",
    "plt.subplot(1,2,1)\n",
    "plt.title('Prewitt - magnitude')\n",
    "plt.imshow(mag, cmap='gray')\n",
    "plt.subplot(1,2,2)\n",
    "plt.title('Prewitt - orientation')\n",
    "plt.imshow(theta, cmap='gray')\n",
    "plt.show()\n",
    "\n",
    "Sx = cv.Sobel(fxy,cv.CV_64F,1,0,ksize=3)\n",
    "Sy = cv.Sobel(fxy,cv.CV_64F,0,1,ksize=3)\n",
    "\n",
    "# Remove added border pixels\n",
    "Sx = Sx[1:-1,1:-1]\n",
    "Sy = Sy[1:-1,1:-1]\n",
    "\n",
    "mag = np.sqrt(Sx**2+Sy**2)\n",
    "theta = np.arctan(Sy,Sx)\n",
    "\n",
    "\n",
    "plt.subplot(1,2,1)\n",
    "plt.title('Sobel - magnitude')\n",
    "plt.imshow(mag, cmap='gray')\n",
    "plt.subplot(1,2,2)\n",
    "plt.title('Sobel - orientation')\n",
    "plt.imshow(theta, cmap='gray')\n",
    "plt.show()"
   ]
  },
  {
   "cell_type": "markdown",
   "metadata": {
    "id": "2JYQoA_n_HcV"
   },
   "source": [
    "#Problem #8\n",
    "Compute the C matrix and find its eigenvalues, to detect the corner in the image given in Figure 1,\n",
    "when using a neighborhood of 7 × 7."
   ]
  },
  {
   "cell_type": "code",
   "execution_count": 840,
   "metadata": {
    "colab": {
     "base_uri": "https://localhost:8080/",
     "height": 1000
    },
    "executionInfo": {
     "elapsed": 980,
     "status": "ok",
     "timestamp": 1633446216979,
     "user": {
      "displayName": "Tony Smoragiewicz",
      "photoUrl": "https://lh3.googleusercontent.com/a-/AOh14GjoNXleYy3tWkSCggDMKv2dscLdHUCSmkPOvvNBZs0=s64",
      "userId": "08159420652727897962"
     },
     "user_tz": -120
    },
    "id": "MXHUeViq_Iwl",
    "outputId": "0852c2fb-a8f1-401f-d256-bf4f93f2094c"
   },
   "outputs": [
    {
     "data": {
      "image/png": "[encoded data removed]",
      "text/plain": [
       "<Figure size 432x288 with 1 Axes>"
      ]
     },
     "metadata": {
      "needs_background": "light"
     },
     "output_type": "display_data"
    },
    {
     "data": {
      "image/png": "[encoded data removed]",
      "text/plain": [
       "<Figure size 432x288 with 3 Axes>"
      ]
     },
     "metadata": {
      "needs_background": "light"
     },
     "output_type": "display_data"
    }
   ],
   "source": [
    "image = np.hstack([np.zeros([10,10]), 40*np.ones([10,10])])\n",
    "checker = np.vstack([image, np.fliplr(image)])\n",
    "plt.title('Checkerboard')\n",
    "plt.imshow(checker, cmap='gray', vmin=0, vmax=40)\n",
    "plt.show()\n",
    "\n",
    "Sx = cv.Sobel(checker,cv.CV_64F,1,0,ksize=7)\n",
    "Sy = cv.Sobel(checker,cv.CV_64F,0,1,ksize=7)\n",
    "Sxy = Sx*Sy\n",
    "R = (Sx**2 * Sy**2) - 0.05*(Sx**2 + Sy**2)\n",
    "\n",
    "plt.subplot(1,3,1)\n",
    "plt.title('Ixx')\n",
    "plt.imshow(Sx**2, cmap='gray')\n",
    "\n",
    "plt.subplot(1,3,2)\n",
    "plt.title('Iyy')\n",
    "plt.imshow(Sy**2, cmap='gray')\n",
    "\n",
    "plt.subplot(1,3,3)\n",
    "plt.imshow(Sxy, cmap='gray')\n",
    "plt.title('Ixy')\n",
    "plt.show()\n"
   ]
  }
 ],
 "metadata": {
  "colab": {
   "authorship_tag": "ABX9TyNbvFBCAKlQULzt2YIf+dph",
   "collapsed_sections": [],
   "name": "EECE5639-HW2.ipynb",
   "provenance": []
  },
  "interpreter": {
   "hash": "916dbcbb3f70747c44a77c7bcd40155683ae19c65e1c03b4aa3499c5328201f1"
  },
  "kernelspec": {
   "display_name": "Python 3.9.5 64-bit",
   "name": "python3"
  },
  "language_info": {
   "codemirror_mode": {
    "name": "ipython",
    "version": 3
   },
   "file_extension": ".py",
   "mimetype": "text/x-python",
   "name": "python",
   "nbconvert_exporter": "python",
   "pygments_lexer": "ipython3",
   "version": "3.9.5"
  }
 },
 "nbformat": 4,
 "nbformat_minor": 2
}
