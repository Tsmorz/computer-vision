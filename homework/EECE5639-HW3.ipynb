{
 "cells": [
  {
   "cell_type": "markdown",
   "metadata": {},
   "source": [
    "#Image Features and Homographies"
   ]
  },
  {
   "cell_type": "code",
   "execution_count": 183,
   "metadata": {},
   "outputs": [],
   "source": [
    "# import libraries\n",
    "import numpy as np\n",
    "import math\n",
    "import matplotlib.pyplot as plt"
   ]
  },
  {
   "cell_type": "markdown",
   "metadata": {},
   "source": [
    "#Problem #1\n",
    "Find the Hough transform (using the normal equation of a line) for the lines enclosing an object\n",
    "with vertices A=(2,0), B=(2,2) and C=(0,2). Sketch the modified object enclosed by lines replacing\n",
    "(rho,theta) of the given object lines with (rho*rho,theta + 90). Calculate the area of the modified\n",
    "object."
   ]
  },
  {
   "cell_type": "code",
   "execution_count": 184,
   "metadata": {},
   "outputs": [
    {
     "name": "stdout",
     "output_type": "stream",
     "text": [
      "[[2.         0.        ]\n",
      " [1.41421356 0.78539816]\n",
      " [2.         1.57079633]]\n"
     ]
    },
    {
     "name": "stderr",
     "output_type": "stream",
     "text": [
      "/tmp/ipykernel_18692/3863113121.py:24: RuntimeWarning: divide by zero encountered in double_scalars\n",
      "  slope = -lines[i,0]/lines[i,1]\n",
      "/tmp/ipykernel_18692/3863113121.py:25: RuntimeWarning: divide by zero encountered in double_scalars\n",
      "  theta = math.atan(-1/slope)\n",
      "/tmp/ipykernel_18692/3863113121.py:28: RuntimeWarning: divide by zero encountered in double_scalars\n",
      "  x = -b/(slope+1/slope)\n"
     ]
    },
    {
     "data": {
      "image/png": "[encoded data removed]",
      "text/plain": [
       "<Figure size 432x288 with 1 Axes>"
      ]
     },
     "metadata": {
      "needs_background": "light"
     },
     "output_type": "display_data"
    }
   ],
   "source": [
    "# Find all lines from point pairs\n",
    "def points2lines(points):\n",
    "    lines = np.zeros([1,3])\n",
    "    r,c = points.shape\n",
    "    while(r>1):\n",
    "        for i in np.arange(1,r):\n",
    "            line = np.cross(points[i,:], points[0,:])\n",
    "            lines = np.vstack([lines, line])\n",
    "        points = points[1:,:]\n",
    "        r,c = points.shape\n",
    "    lines = lines[1:,:]\n",
    "    return lines\n",
    "\n",
    "# Turn the points into homogeneous coordinates\n",
    "def xy2homo(points):\n",
    "    r,c = points.shape\n",
    "    points = np.hstack([points, np.ones([r,1])])\n",
    "    return points\n",
    "\n",
    "# Convert x-y pairs into rho-theta pairs\n",
    "def xy2rhotheta(lines):\n",
    "    rhotheta = np.zeros([lines.shape[0],2])\n",
    "    for i in range(lines.shape[0]):\n",
    "        slope = -lines[i,0]/lines[i,1]\n",
    "        theta = math.atan(-1/slope)\n",
    "        if theta !=(0):\n",
    "            b = -lines[i,2]/lines[i,1]\n",
    "            x = -b/(slope+1/slope)\n",
    "            y = slope*x + b\n",
    "            rho = x*np.cos(theta) + y*np.sin(theta)\n",
    "        else:\n",
    "            rho = -lines[i,2]/lines[i,0]\n",
    "        rhotheta[i,:] = [rho, theta]\n",
    "    return rhotheta\n",
    "\n",
    "A = [2,0]\n",
    "B = [2,2]\n",
    "C = [0,2]\n",
    "\n",
    "points = np.vstack([A,B,C])\n",
    "\n",
    "points = xy2homo(points)\n",
    "lines = points2lines(points)\n",
    "rhotheta = xy2rhotheta(lines)\n",
    "print(rhotheta)\n",
    "plt.plot(rhotheta[:,0], rhotheta[:,1],'.')\n",
    "plt.plot(rhotheta[:,0]**2, rhotheta[:,1]+np.pi/4,'.')\n",
    "plt.show()\n"
   ]
  }
 ],
 "metadata": {
  "interpreter": {
   "hash": "916dbcbb3f70747c44a77c7bcd40155683ae19c65e1c03b4aa3499c5328201f1"
  },
  "kernelspec": {
   "display_name": "Python 3.9.5 64-bit",
   "name": "python3"
  },
  "language_info": {
   "codemirror_mode": {
    "name": "ipython",
    "version": 3
   },
   "file_extension": ".py",
   "mimetype": "text/x-python",
   "name": "python",
   "nbconvert_exporter": "python",
   "pygments_lexer": "ipython3",
   "version": "3.9.5"
  },
  "orig_nbformat": 4
 },
 "nbformat": 4,
 "nbformat_minor": 2
}
