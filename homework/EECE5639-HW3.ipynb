{
 "cells": [
  {
   "cell_type": "markdown",
   "metadata": {},
   "source": [
    "# Image Features and Homographies\n",
    "Tony Smoragiewicz"
   ]
  },
  {
   "cell_type": "code",
   "execution_count": 39,
   "metadata": {},
   "outputs": [],
   "source": [
    "# import libraries\n",
    "import numpy as np\n",
    "import math\n",
    "import matplotlib.pyplot as plt"
   ]
  },
  {
   "cell_type": "markdown",
   "metadata": {},
   "source": [
    "Various functions for Homework 3"
   ]
  },
  {
   "cell_type": "code",
   "execution_count": 40,
   "metadata": {},
   "outputs": [],
   "source": [
    "# Find all normal lines from point pairs\n",
    "def points2lines(points):\n",
    "    lines = np.zeros([1,3])\n",
    "    r,c = points.shape\n",
    "    while(r>1):\n",
    "        for i in np.arange(1,r):\n",
    "            line = np.cross(points[i,:], points[0,:])\n",
    "            lines = np.vstack([lines, line])\n",
    "        points = points[1:,:]\n",
    "        r,c = points.shape\n",
    "    lines = lines[1:,:]\n",
    "    return lines\n",
    "\n",
    "# Convert linear eqn to rho-theta\n",
    "def linear2hough(lines):\n",
    "    rhotheta = np.zeros([lines.shape[0],2])\n",
    "    for i in range(lines.shape[0]):\n",
    "        slope = -lines[i,0]/lines[i,1]\n",
    "        theta = math.atan(-1/slope)\n",
    "        if theta !=(0):\n",
    "            b = -lines[i,2]/lines[i,1]\n",
    "            x = -b/(slope+1/slope)\n",
    "            y = slope*x + b\n",
    "            rho = x*np.cos(theta) + y*np.sin(theta)\n",
    "        else:\n",
    "            rho = -lines[i,2]/lines[i,0]\n",
    "        rhotheta[i,:] = [rho, theta]\n",
    "    return rhotheta\n",
    "\n",
    "# Plot a list of vertices as lines\n",
    "def verts2lines(vertices):\n",
    "    for i in range(vertices.shape[0]):\n",
    "        if i == vertices.shape[0]-1:\n",
    "            x = [vertices[i,0], vertices[0,0]]\n",
    "            y = [vertices[i,1], vertices[0,1]]      \n",
    "        else:\n",
    "            x = [vertices[i,0], vertices[i+1,0]]\n",
    "            y = [vertices[i,1], vertices[i+1,1]]\n",
    "        plt.plot(x,y)\n",
    "    return\n",
    "\n",
    "# Convert Hough to linear equation\n",
    "def hough2linear(rhotheta):\n",
    "    lines = np.zeros([rhotheta.shape[0],3])\n",
    "    for i in range(lines.shape[0]):\n",
    "        rho = rhotheta[i,0]\n",
    "        theta = rhotheta[i,1]*np.pi/180\n",
    "        # Theta needs to be +/-90deg\n",
    "        if theta > np.pi/2:\n",
    "            theta = theta-np.pi\n",
    "        if theta < -np.pi/2:\n",
    "            theta = theta+np.pi\n",
    "\n",
    "        x = rho*np.cos(theta)\n",
    "        y = rho*np.sin(theta)\n",
    "        slope = -1/np.tan(theta)\n",
    "        intercept = y-slope*x\n",
    "        if theta==0:\n",
    "            line = [1,0,-x]\n",
    "        elif theta==np.pi/2 or theta==-np.pi/2:\n",
    "            line = [0,-1/intercept,1]\n",
    "        else:\n",
    "            line = [slope/intercept,-1/intercept,1]\n",
    "        lines[i,:] = line\n",
    "        \n",
    "    return lines\n",
    "\n",
    "# Find line intersections\n",
    "def intersect(lines):\n",
    "    corners = np.zeros([lines.shape[0],3])\n",
    "    for i in np.arange(lines.shape[0]):\n",
    "        if i == lines.shape[0]-1:\n",
    "\n",
    "            corner = np.cross(lines[i,:],lines[0,:])       \n",
    "        else:\n",
    "            corner = np.cross(lines[i,:],lines[i+1,:])\n",
    "        corners[i,:] = corner/corner[2]\n",
    "    return corners\n",
    "\n",
    "# Rotate points around the z-axis\n",
    "def rotz(theta):\n",
    "    Tz = np.array([[np.cos(theta), -np.sin(theta), 0],\n",
    "                   [np.sin(theta),  np.cos(theta), 0],\n",
    "                   [            0,              0, 1]])\n",
    "    return Tz\n",
    "\n",
    "# Pad image with zeros\n",
    "def pad(image,filter):\n",
    "    r,c = filter.shape\n",
    "    factor = int(np.floor(r/2))\n",
    "\n",
    "    r_img, c_img = image.shape\n",
    "    pad = np.zeros([r_img,factor])\n",
    "    image = np.hstack([pad,image,pad])\n",
    "\n",
    "    r_img, c_img = image.shape\n",
    "    pad = np.zeros([factor,c_img])\n",
    "    image = np.vstack([pad,image,pad])\n",
    "\n",
    "    return image\n",
    "\n",
    "# SSD feature matching\n",
    "def SSD(image,filter):\n",
    "    r,c = image.shape\n",
    "    ssd = np.zeros([r,c])\n",
    "    \n",
    "    g = np.reshape(filter,[9,1])\n",
    "    padded = pad(image,filter)\n",
    "    for i in range(r):\n",
    "        for j in range(c):\n",
    "            f = padded[i:i+3,j:j+3]\n",
    "            f = np.reshape(f,[1,9])\n",
    "            ssd[i,j] = np.sum(f**2) + np.sum(g**2) - 2*np.dot(f,g)\n",
    "\n",
    "    return ssd\n",
    "\n",
    "# CC feature matching\n",
    "def cross_corr(image,filter):\n",
    "    r,c = image.shape\n",
    "    cc = np.zeros([r,c])\n",
    "\n",
    "    g = np.reshape(filter,[9,1])\n",
    "    padded = pad(image,filter)\n",
    "    for i in range(r):\n",
    "        for j in range(c):\n",
    "            f = padded[i:i+3,j:j+3]\n",
    "            f = np.reshape(f,[1,9])\n",
    "            cc[i,j] = np.dot(f,g)\n",
    "            \n",
    "    return cc\n",
    "\n",
    "# Norm CC feature matching\n",
    "def norm_cross_corr(image,filter):\n",
    "    r,c = image.shape\n",
    "    ncc = np.zeros([r,c])\n",
    "    \n",
    "    padded = pad(image,filter)\n",
    "    for i in range(r):\n",
    "        for j in range(c):\n",
    "            f = padded[i:i+3,j:j+3]\n",
    "            if np.sum(np.sqrt(f**2))==0:\n",
    "                norm_f = np.zeros([f.shape[0],f.shape[1]])\n",
    "            else:\n",
    "                norm_f = f/np.sqrt(np.sum(f**2))\n",
    "            norm_g = filter/np.sqrt(np.sum(filter**2))\n",
    "\n",
    "            norm_f = np.reshape(norm_f,[1,9])\n",
    "            norm_g = np.reshape(norm_g,[9,1])\n",
    "\n",
    "            ncc[i,j] = np.dot(norm_f,norm_g)\n",
    "            \n",
    "    return ncc"
   ]
  },
  {
   "cell_type": "markdown",
   "metadata": {},
   "source": [
    "# Problem #1\n",
    "The area of the modified object is (2rho*90deg/2) = 90"
   ]
  },
  {
   "cell_type": "code",
   "execution_count": 41,
   "metadata": {},
   "outputs": [
    {
     "name": "stdout",
     "output_type": "stream",
     "text": [
      "Hough transform\n",
      "Rho and Theta(deg):\n",
      "[[ 2.    0.  ]\n",
      " [ 1.41 45.  ]\n",
      " [ 2.   90.  ]]\n",
      "[[  4.  45.]\n",
      " [  2.  90.]\n",
      " [  4. 135.]]\n"
     ]
    },
    {
     "name": "stderr",
     "output_type": "stream",
     "text": [
      "/tmp/ipykernel_45450/1586172654.py:18: RuntimeWarning: divide by zero encountered in double_scalars\n",
      "  slope = -lines[i,0]/lines[i,1]\n",
      "/tmp/ipykernel_45450/1586172654.py:19: RuntimeWarning: divide by zero encountered in double_scalars\n",
      "  theta = math.atan(-1/slope)\n",
      "/tmp/ipykernel_45450/1586172654.py:22: RuntimeWarning: divide by zero encountered in double_scalars\n",
      "  x = -b/(slope+1/slope)\n"
     ]
    },
    {
     "data": {
      "text/plain": [
       "Text(0, 0.5, 'Theta (deg)')"
      ]
     },
     "execution_count": 41,
     "metadata": {},
     "output_type": "execute_result"
    },
    {
     "data": {
      "image/png": "[encoded data removed]",
      "text/plain": [
       "<Figure size 432x288 with 1 Axes>"
      ]
     },
     "metadata": {
      "needs_background": "light"
     },
     "output_type": "display_data"
    }
   ],
   "source": [
    "A = [2,0]\n",
    "B = [2,2]\n",
    "C = [0,2]\n",
    "points = np.vstack([A,B,C])\n",
    "r,c = points.shape\n",
    "points = np.hstack([points, np.ones([r,1])])\n",
    "\n",
    "lines = points2lines(points)\n",
    "rhotheta = linear2hough(lines)\n",
    "\n",
    "rhodeg = np.copy(rhotheta)\n",
    "rhodeg[:,1] = rhodeg[:,1]*180/np.pi\n",
    "print('Hough transform')\n",
    "print('Rho and Theta(deg):')\n",
    "print(np.around(rhodeg,2))\n",
    "\n",
    "# Modified Object\n",
    "rhotheta[:,0] = rhotheta[:,0]**2\n",
    "rhotheta[:,1] = rhotheta[:,1]+np.pi/4\n",
    "rhodeg = np.copy(rhotheta)\n",
    "rhodeg[:,1] = rhodeg[:,1]*180/np.pi\n",
    "print(np.around(rhodeg,2))\n",
    "verts2lines(rhodeg)\n",
    "plt.xlabel('Rho')\n",
    "plt.ylabel('Theta (deg)')"
   ]
  },
  {
   "cell_type": "markdown",
   "metadata": {},
   "source": [
    "# Problem #2"
   ]
  },
  {
   "cell_type": "code",
   "execution_count": 42,
   "metadata": {},
   "outputs": [
    {
     "name": "stderr",
     "output_type": "stream",
     "text": [
      "/tmp/ipykernel_45450/1586172654.py:56: RuntimeWarning: divide by zero encountered in double_scalars\n",
      "  slope = -1/np.tan(theta)\n"
     ]
    },
    {
     "name": "stdout",
     "output_type": "stream",
     "text": [
      "[[3.   3.   1.  ]\n",
      " [3.   0.27 1.  ]\n",
      " [0.63 1.63 1.  ]\n",
      " [2.   3.   1.  ]]\n"
     ]
    },
    {
     "data": {
      "image/png": "[encoded data removed]",
      "text/plain": [
       "<Figure size 432x288 with 1 Axes>"
      ]
     },
     "metadata": {
      "needs_background": "light"
     },
     "output_type": "display_data"
    }
   ],
   "source": [
    "AB = [3,90]\n",
    "BC = [3,0]\n",
    "CD = [np.sqrt(3),60]\n",
    "DA = [-np.sqrt(2)/2,-45]\n",
    "sides = np.vstack([AB,BC,CD,DA])\n",
    "\n",
    "# Convert Hough transform to linera equation\n",
    "normlines = hough2linear(sides)\n",
    "\n",
    "# Find the line intersections\n",
    "corners = intersect(normlines)\n",
    "print(np.around(corners,2))\n",
    "\n",
    "# Plot the vertices and\n",
    "verts2lines(corners)"
   ]
  },
  {
   "cell_type": "markdown",
   "metadata": {},
   "source": [
    "(b) Rotate image by 30 degrees ccw around the image space origin"
   ]
  },
  {
   "cell_type": "code",
   "execution_count": 43,
   "metadata": {},
   "outputs": [
    {
     "name": "stdout",
     "output_type": "stream",
     "text": [
      "[[3.         3.         1.        ]\n",
      " [3.         0.26794919 1.        ]\n",
      " [0.6339746  1.6339746  1.        ]\n",
      " [2.         3.         1.        ]]\n"
     ]
    },
    {
     "data": {
      "image/png": "[encoded data removed]",
      "text/plain": [
       "<Figure size 432x288 with 1 Axes>"
      ]
     },
     "metadata": {
      "needs_background": "light"
     },
     "output_type": "display_data"
    }
   ],
   "source": [
    "# Rotate 30d CCW about image space origin\n",
    "angle = 30\n",
    "theta = np.pi/180 * angle\n",
    "\n",
    "r,c = corners.shape\n",
    "CCW30 = np.zeros([r,c])\n",
    "for i in range(r):\n",
    "    CCW30[i,:] = np.matmul(rotz(theta),corners[i,:].T).T\n",
    "print(corners)\n",
    "\n",
    "verts2lines(CCW30)"
   ]
  },
  {
   "cell_type": "markdown",
   "metadata": {},
   "source": [
    "# Problem #3"
   ]
  },
  {
   "cell_type": "code",
   "execution_count": 44,
   "metadata": {},
   "outputs": [],
   "source": [
    "f = np.array([[0,0,0,0,0,0,0,0],\n",
    "              [0,2,4,2,0,0,0,0],\n",
    "              [0,2,0,0,0,0,0,0],\n",
    "              [0,0,2,0,0,0,2,0],\n",
    "              [0,0,0,0,0,0,2,0],\n",
    "              [1,2,1,0,0,2,4,2],\n",
    "              [0,1,0,0,0,0,0,0],\n",
    "              [0,1,0,0,0,0,0,0]])\n",
    "\n",
    "g = np.array([[1,2,1],\n",
    "              [0,1,0],\n",
    "              [0,1,0]])"
   ]
  },
  {
   "cell_type": "markdown",
   "metadata": {},
   "source": [
    "(a) Find the SSD between f and g"
   ]
  },
  {
   "cell_type": "code",
   "execution_count": 45,
   "metadata": {},
   "outputs": [
    {
     "name": "stdout",
     "output_type": "stream",
     "text": [
      "[[12. 24. 24. 24. 12.  8.  8.  8.]\n",
      " [16. 24. 28. 24. 12.  8.  8.  8.]\n",
      " [12. 16. 12. 16.  8. 12.  8. 12.]\n",
      " [ 8.  8.  8. 12.  8. 16.  8. 16.]\n",
      " [11. 10.  7.  9. 12. 28. 20. 28.]\n",
      " [12.  9. 12.  9. 12. 24. 20. 24.]\n",
      " [ 7.  0.  7.  7.  8. 12.  8. 12.]\n",
      " [ 8.  4.  8.  8.  8.  8.  8.  8.]]\n"
     ]
    }
   ],
   "source": [
    "ssd = SSD(f,g)\n",
    "print(ssd)"
   ]
  },
  {
   "cell_type": "markdown",
   "metadata": {},
   "source": [
    "(b) Find the Correlation between f and g"
   ]
  },
  {
   "cell_type": "code",
   "execution_count": 46,
   "metadata": {},
   "outputs": [
    {
     "name": "stdout",
     "output_type": "stream",
     "text": [
      "[[ 0.  2.  4.  2.  0.  0.  0.  0.]\n",
      " [ 0.  4.  4.  2.  0.  0.  0.  0.]\n",
      " [ 2. 10. 14.  8.  2.  0.  2.  0.]\n",
      " [ 2.  4.  4.  0.  0.  0.  4.  0.]\n",
      " [ 1.  4.  5.  2.  0.  4. 10.  4.]\n",
      " [ 1.  3.  1.  0.  0.  4.  8.  4.]\n",
      " [ 4.  8.  4.  1.  2.  8. 12.  8.]\n",
      " [ 1.  3.  1.  0.  0.  0.  0.  0.]]\n"
     ]
    }
   ],
   "source": [
    "cc = cross_corr(f,g)\n",
    "print(cc)"
   ]
  },
  {
   "cell_type": "markdown",
   "metadata": {},
   "source": [
    "(c) Find the Normalized Correlation between f and g"
   ]
  },
  {
   "cell_type": "code",
   "execution_count": 47,
   "metadata": {},
   "outputs": [
    {
     "name": "stdout",
     "output_type": "stream",
     "text": [
      "[[0.    0.158 0.289 0.158 0.    0.    0.    0.   ]\n",
      " [0.    0.289 0.267 0.158 0.    0.    0.    0.   ]\n",
      " [0.25  0.668 0.875 0.577 0.354 0.    0.354 0.   ]\n",
      " [0.354 0.5   0.5   0.    0.    0.    0.5   0.   ]\n",
      " [0.158 0.447 0.589 0.316 0.    0.267 0.625 0.267]\n",
      " [0.144 0.401 0.144 0.    0.    0.289 0.535 0.289]\n",
      " [0.535 1.    0.535 0.354 0.354 0.632 0.866 0.632]\n",
      " [0.25  0.75  0.25  0.    0.    0.    0.    0.   ]]\n"
     ]
    }
   ],
   "source": [
    "ncc = norm_cross_corr(f,g)\n",
    "print(np.around(ncc,3))"
   ]
  },
  {
   "cell_type": "markdown",
   "metadata": {},
   "source": [
    "# Problem #4"
   ]
  },
  {
   "cell_type": "markdown",
   "metadata": {},
   "source": [
    "(a) Homography\n",
    "(b) 3 DOF\n",
    "(c) 4 pairs are required\n",
    "(d) No, having more is not helpful. They are just reduntant as long as your original ones are correct.\n",
    "(e)\n",
    "(f)\n",
    "(g) The lines that are parallel to the x and y axis will not have vanishing points if the building plane is parallel to the image plane."
   ]
  }
 ],
 "metadata": {
  "interpreter": {
   "hash": "916dbcbb3f70747c44a77c7bcd40155683ae19c65e1c03b4aa3499c5328201f1"
  },
  "kernelspec": {
   "display_name": "Python 3.9.5 64-bit",
   "name": "python3"
  },
  "language_info": {
   "codemirror_mode": {
    "name": "ipython",
    "version": 3
   },
   "file_extension": ".py",
   "mimetype": "text/x-python",
   "name": "python",
   "nbconvert_exporter": "python",
   "pygments_lexer": "ipython3",
   "version": "3.9.5"
  },
  "orig_nbformat": 4
 },
 "nbformat": 4,
 "nbformat_minor": 2
}
