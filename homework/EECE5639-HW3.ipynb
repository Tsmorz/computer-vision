{
 "cells": [
  {
   "cell_type": "markdown",
   "metadata": {},
   "source": [
    "#Image Features and Homographies"
   ]
  },
  {
   "cell_type": "code",
   "execution_count": 48,
   "metadata": {},
   "outputs": [],
   "source": [
    "# import libraries\n",
    "import numpy as np\n",
    "import math\n",
    "import matplotlib.pyplot as plt"
   ]
  },
  {
   "cell_type": "markdown",
   "metadata": {},
   "source": [
    "#Problem #1\n",
    "Find the Hough transform (using the normal equation of a line) for the lines enclosing an object\n",
    "with vertices A=(2,0), B=(2,2) and C=(0,2). Sketch the modified object enclosed by lines replacing\n",
    "(rho,theta) of the given object lines with (rho*rho,theta + 90). Calculate the area of the modified\n",
    "object."
   ]
  },
  {
   "cell_type": "code",
   "execution_count": 49,
   "metadata": {},
   "outputs": [],
   "source": [
    "# Find all normal lines from point pairs\n",
    "def points2lines(points):\n",
    "    lines = np.zeros([1,3])\n",
    "    r,c = points.shape\n",
    "    while(r>1):\n",
    "        for i in np.arange(1,r):\n",
    "            line = np.cross(points[i,:], points[0,:])\n",
    "            lines = np.vstack([lines, line])\n",
    "        points = points[1:,:]\n",
    "        r,c = points.shape\n",
    "    lines = lines[1:,:]\n",
    "    return lines\n",
    "\n",
    "# Convert linear eqn to rho-theta\n",
    "def linear2hough(lines):\n",
    "    rhotheta = np.zeros([lines.shape[0],2])\n",
    "    for i in range(lines.shape[0]):\n",
    "        slope = -lines[i,0]/lines[i,1]\n",
    "        theta = math.atan(-1/slope)\n",
    "        if theta !=(0):\n",
    "            b = -lines[i,2]/lines[i,1]\n",
    "            x = -b/(slope+1/slope)\n",
    "            y = slope*x + b\n",
    "            rho = x*np.cos(theta) + y*np.sin(theta)\n",
    "        else:\n",
    "            rho = -lines[i,2]/lines[i,0]\n",
    "        rhotheta[i,:] = [rho, theta]\n",
    "    return rhotheta\n",
    "\n",
    "# Plot a list of vertices as lines\n",
    "def verts2lines(vertices):\n",
    "    for i in range(vertices.shape[0]):\n",
    "        if i == vertices.shape[0]-1:\n",
    "            x = [vertices[i,0], vertices[0,0]]\n",
    "            y = [vertices[i,1], vertices[0,1]]      \n",
    "        else:\n",
    "            x = [vertices[i,0], vertices[i+1,0]]\n",
    "            y = [vertices[i,1], vertices[i+1,1]]\n",
    "        plt.plot(x,y)\n",
    "    plt.axis('equal')\n",
    "    plt.xlabel('Rho')\n",
    "    plt.ylabel('Theta (rad)')\n",
    "    return\n"
   ]
  },
  {
   "cell_type": "code",
   "execution_count": 50,
   "metadata": {},
   "outputs": [
    {
     "name": "stdout",
     "output_type": "stream",
     "text": [
      "Rho and Theta(rad):\n",
      "[[2.   0.  ]\n",
      " [1.41 0.79]\n",
      " [2.   1.57]]\n"
     ]
    },
    {
     "name": "stderr",
     "output_type": "stream",
     "text": [
      "/tmp/ipykernel_40359/4069457179.py:18: RuntimeWarning: divide by zero encountered in double_scalars\n",
      "  slope = -lines[i,0]/lines[i,1]\n",
      "/tmp/ipykernel_40359/4069457179.py:19: RuntimeWarning: divide by zero encountered in double_scalars\n",
      "  theta = math.atan(-1/slope)\n",
      "/tmp/ipykernel_40359/4069457179.py:22: RuntimeWarning: divide by zero encountered in double_scalars\n",
      "  x = -b/(slope+1/slope)\n"
     ]
    },
    {
     "data": {
      "image/png": "[encoded data removed]",
      "text/plain": [
       "<Figure size 432x288 with 1 Axes>"
      ]
     },
     "metadata": {
      "needs_background": "light"
     },
     "output_type": "display_data"
    }
   ],
   "source": [
    "A = [2,0]\n",
    "B = [2,2]\n",
    "C = [0,2]\n",
    "points = np.vstack([A,B,C])\n",
    "r,c = points.shape\n",
    "points = np.hstack([points, np.ones([r,1])])\n",
    "\n",
    "lines = points2lines(points)\n",
    "rhotheta = linear2hough(lines)\n",
    "print('Rho and Theta(rad):')\n",
    "print(np.around(rhotheta,2))\n",
    "\n",
    "rhotheta[:,0] = rhotheta[:,0]**2\n",
    "rhotheta[:,1] = rhotheta[:,1]+np.pi/4\n",
    "verts2lines(rhotheta)\n",
    "plt.show()"
   ]
  },
  {
   "cell_type": "markdown",
   "metadata": {},
   "source": [
    "#Problem #2\n",
    "(a) Draw the polygon in image space and indicate the coordinates of the four vertices.\n",
    "(b) The polygon is rotated 30 degrees counterclockwise around the image space origin. Find the\n",
    "Hough transform for the sides of the rotated polygon."
   ]
  },
  {
   "cell_type": "code",
   "execution_count": 51,
   "metadata": {},
   "outputs": [],
   "source": [
    "# Convert polar coordinate lines to plane normal\n",
    "def polar2norm(rhotheta):\n",
    "    lines = np.zeros([rhotheta.shape[0],3])\n",
    "    for i in range(lines.shape[0]):\n",
    "        rho = rhotheta[i,0]\n",
    "        theta = rhotheta[i,1]*np.pi/180\n",
    "        # Theta needs to be +/-90deg\n",
    "        if theta > np.pi/2:\n",
    "            theta = theta-np.pi\n",
    "        if theta < -np.pi/2:\n",
    "            theta = theta+np.pi\n",
    "\n",
    "        x = rho*np.cos(theta)\n",
    "        y = rho*np.sin(theta)\n",
    "        slope = -1/np.tan(theta)\n",
    "        intercept = y-slope*x\n",
    "        if theta==0:\n",
    "            line = [1,0,-x]\n",
    "        elif theta==np.pi/2 or theta==-np.pi/2:\n",
    "            line = [0,-1/intercept,1]\n",
    "        else:\n",
    "            line = [slope/intercept,-1/intercept,1]\n",
    "        lines[i,:] = line\n",
    "        \n",
    "    return lines"
   ]
  },
  {
   "cell_type": "code",
   "execution_count": 52,
   "metadata": {},
   "outputs": [],
   "source": [
    "# Find line intersections\n",
    "def intersect(lines):\n",
    "    corners = np.zeros([lines.shape[0],3])\n",
    "    for i in np.arange(lines.shape[0]):\n",
    "        if i == lines.shape[0]-1:\n",
    "\n",
    "            corner = np.cross(lines[i,:],lines[0,:])       \n",
    "        else:\n",
    "            corner = np.cross(lines[i,:],lines[i+1,:])\n",
    "        corners[i,:] = corner/corner[2]\n",
    "    return corners"
   ]
  },
  {
   "cell_type": "code",
   "execution_count": 53,
   "metadata": {},
   "outputs": [],
   "source": [
    "# Plot lines from list of linear equation Ax + By + C = 0\n",
    "def plotlines(lines):\n",
    "    for i in range(normlines.shape[0]):\n",
    "        C0 = normlines[i,0]\n",
    "        C1 = normlines[i,1]\n",
    "        C2 = normlines[i,2]\n",
    "        # vertical line\n",
    "        start = 0\n",
    "        stop = 5\n",
    "        if C1 == 0.0:\n",
    "            y = np.arange(start,stop)\n",
    "            x = -1/C0*(C1*y + C2)\n",
    "        # all other lines\n",
    "        else:\n",
    "            x = np.arange(start,stop)\n",
    "            y = -1/C1*(C0*x + C2)\n",
    "        plt.plot(x,y)\n",
    "    plt.axis('equal')\n",
    "    plt.show()\n",
    "\n",
    "    return"
   ]
  },
  {
   "cell_type": "code",
   "execution_count": 54,
   "metadata": {},
   "outputs": [
    {
     "name": "stdout",
     "output_type": "stream",
     "text": [
      "[[3.   3.   1.  ]\n",
      " [3.   0.27 1.  ]\n",
      " [0.63 1.63 1.  ]\n",
      " [2.   3.   1.  ]]\n"
     ]
    },
    {
     "name": "stderr",
     "output_type": "stream",
     "text": [
      "/tmp/ipykernel_40359/3218740607.py:15: RuntimeWarning: divide by zero encountered in double_scalars\n",
      "  slope = -1/np.tan(theta)\n"
     ]
    },
    {
     "data": {
      "image/png": "[encoded data removed]",
      "text/plain": [
       "<Figure size 432x288 with 1 Axes>"
      ]
     },
     "metadata": {
      "needs_background": "light"
     },
     "output_type": "display_data"
    }
   ],
   "source": [
    "AB = [3,90]\n",
    "BC = [3,0]\n",
    "CD = [np.sqrt(3),60]\n",
    "DA = [-np.sqrt(2)/2,-45]\n",
    "sides = np.vstack([AB,BC,CD,DA])\n",
    "\n",
    "normlines = polar2norm(sides)\n",
    "corners = intersect(normlines)\n",
    "print(np.around(corners,2))\n",
    "\n",
    "verts2lines(corners)\n",
    "plt.show()"
   ]
  },
  {
   "cell_type": "markdown",
   "metadata": {},
   "source": [
    "Rotate image by 30 degrees ccw around the image space origin"
   ]
  }
 ],
 "metadata": {
  "interpreter": {
   "hash": "916dbcbb3f70747c44a77c7bcd40155683ae19c65e1c03b4aa3499c5328201f1"
  },
  "kernelspec": {
   "display_name": "Python 3.9.5 64-bit",
   "name": "python3"
  },
  "language_info": {
   "codemirror_mode": {
    "name": "ipython",
    "version": 3
   },
   "file_extension": ".py",
   "mimetype": "text/x-python",
   "name": "python",
   "nbconvert_exporter": "python",
   "pygments_lexer": "ipython3",
   "version": "3.9.5"
  },
  "orig_nbformat": 4
 },
 "nbformat": 4,
 "nbformat_minor": 2
}
