{
 "cells": [
  {
   "cell_type": "markdown",
   "metadata": {},
   "source": [
    "#Image Features and Homographies"
   ]
  },
  {
   "cell_type": "code",
   "execution_count": null,
   "metadata": {},
   "outputs": [],
   "source": [
    "# import libraries\n",
    "import numpy as np\n",
    "import matplotlib.pyplot as plt"
   ]
  },
  {
   "cell_type": "markdown",
   "metadata": {},
   "source": [
    "#Problem #1\n",
    "Find the Hough transform (using the normal equation of a line) for the lines enclosing an object\n",
    "with vertices A=(2,0), B=(2,2) and C=(0,2). Sketch the modified object enclosed by lines replacing\n",
    "(rho,theta) of the given object lines with (rho*rho,theta + 90). Calculate the area of the modified\n",
    "object."
   ]
  },
  {
   "cell_type": "code",
   "execution_count": null,
   "metadata": {},
   "outputs": [],
   "source": [
    "A = [2,0]\n",
    "B = [0,2]\n",
    "C = [0,2]\n",
    "\n"
   ]
  }
 ],
 "metadata": {
  "language_info": {
   "name": "python"
  },
  "orig_nbformat": 4
 },
 "nbformat": 4,
 "nbformat_minor": 2
}
