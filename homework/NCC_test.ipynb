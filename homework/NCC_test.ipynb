{
 "cells": [
  {
   "cell_type": "code",
   "execution_count": 34,
   "metadata": {},
   "outputs": [],
   "source": [
    "# import libraries\n",
    "import numpy as np\n",
    "import math\n",
    "import matplotlib.pyplot as plt"
   ]
  },
  {
   "cell_type": "code",
   "execution_count": 35,
   "metadata": {},
   "outputs": [],
   "source": [
    "# Pad image with zeros\n",
    "def pad(image,filter):\n",
    "    r,c = filter.shape\n",
    "    factor = int(np.floor(r/2))\n",
    "\n",
    "    r_img, c_img = image.shape\n",
    "    pad = np.zeros([r_img,factor])\n",
    "    image = np.hstack([pad,image,pad])\n",
    "\n",
    "    r_img, c_img = image.shape\n",
    "    pad = np.zeros([factor,c_img])\n",
    "    image = np.vstack([pad,image,pad])\n",
    "\n",
    "    return image\n",
    "\n",
    "# Norm CC feature matching\n",
    "def norm_cross_corr(image,filter):\n",
    "    r,c = image.shape\n",
    "    ncc = np.zeros([r,c])\n",
    "    \n",
    "    padded = pad(image,filter)\n",
    "\n",
    "    for i in range(r):\n",
    "        for j in range(c):\n",
    "            f = padded[i:i+filter.shape[0],j:j+filter.shape[1]]\n",
    "            len_f = np.sqrt(np.sum(f**2))\n",
    "            if len_f==0:\n",
    "                norm_f = np.zeros(f.shape)\n",
    "            else:\n",
    "                norm_f = f/len_f\n",
    "            norm_g = filter/np.sqrt(np.sum(filter**2))\n",
    "\n",
    "            if filter.size != norm_f.size:\n",
    "                print('Norm F:', norm_f)\n",
    "                print('Filter:',filter)\n",
    "            \n",
    "            norm_f = np.reshape(norm_f,[1,filter.size])\n",
    "            norm_g = np.reshape(norm_g,[filter.size,1])\n",
    "            ncc[i,j] = np.dot(norm_f,norm_g)\n",
    "            \n",
    "    return ncc"
   ]
  },
  {
   "cell_type": "code",
   "execution_count": 36,
   "metadata": {},
   "outputs": [],
   "source": [
    "f = np.array([[0,0,0,0,0,0,0,0],\n",
    "              [0,2,4,2,0,0,0,0],\n",
    "              [0,2,0,0,0,0,0,0],\n",
    "              [0,0,2,0,0,0,2,0],\n",
    "              [0,0,0,0,0,0,2,0],\n",
    "              [1,2,1,0,0,2,4,2],\n",
    "              [0,1,0,0,0,0,0,0],\n",
    "              [0,1,0,0,0,0,0,0]])\n",
    "\n",
    "g = np.array([[1,2,1],\n",
    "              [0,1,0],\n",
    "              [0,1,0]])"
   ]
  },
  {
   "cell_type": "code",
   "execution_count": 37,
   "metadata": {},
   "outputs": [
    {
     "name": "stdout",
     "output_type": "stream",
     "text": [
      "[[0.    0.158 0.289 0.158 0.    0.    0.    0.   ]\n",
      " [0.    0.289 0.267 0.158 0.    0.    0.    0.   ]\n",
      " [0.25  0.668 0.875 0.577 0.354 0.    0.354 0.   ]\n",
      " [0.354 0.5   0.5   0.    0.    0.    0.5   0.   ]\n",
      " [0.158 0.447 0.589 0.316 0.    0.267 0.625 0.267]\n",
      " [0.144 0.401 0.144 0.    0.    0.289 0.535 0.289]\n",
      " [0.535 1.    0.535 0.354 0.354 0.632 0.866 0.632]\n",
      " [0.25  0.75  0.25  0.    0.    0.    0.    0.   ]]\n"
     ]
    }
   ],
   "source": [
    "cc = norm_cross_corr(f,g)\n",
    "print(np.around(cc,3))"
   ]
  }
 ],
 "metadata": {
  "interpreter": {
   "hash": "916dbcbb3f70747c44a77c7bcd40155683ae19c65e1c03b4aa3499c5328201f1"
  },
  "kernelspec": {
   "display_name": "Python 3.9.5 64-bit",
   "name": "python3"
  },
  "language_info": {
   "codemirror_mode": {
    "name": "ipython",
    "version": 3
   },
   "file_extension": ".py",
   "mimetype": "text/x-python",
   "name": "python",
   "nbconvert_exporter": "python",
   "pygments_lexer": "ipython3",
   "version": "3.9.5"
  },
  "orig_nbformat": 4
 },
 "nbformat": 4,
 "nbformat_minor": 2
}
