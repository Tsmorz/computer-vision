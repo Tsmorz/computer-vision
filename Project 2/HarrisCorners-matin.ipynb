{
 "cells": [
  {
   "cell_type": "markdown",
   "metadata": {
    "collapsed": false,
    "pycharm": {
     "name": "#%% md\n"
    }
   },
   "source": [
    "# Project 2 Source Code"
   ]
  },
  {
   "cell_type": "markdown",
   "metadata": {
    "collapsed": false,
    "pycharm": {
     "name": "#%% md\n"
    }
   },
   "source": [
    "## Imports"
   ]
  },
  {
   "cell_type": "code",
   "execution_count": 1,
   "metadata": {},
   "outputs": [],
   "source": [
    "import numpy as np\n",
    "from scipy import ndimage as nd\n",
    "from PIL import Image, ImageDraw\n",
    "import matplotlib.pyplot as plt\n",
    "from torchvision.transforms.functional import resize\n",
    "from torch.nn.functional import conv2d, pad\n",
    "import torch\n",
    "from project2_cuda import corner_nms, ncc, harris_corner\n",
    "from typing import Tuple, Union"
   ]
  },
  {
   "cell_type": "markdown",
   "metadata": {
    "collapsed": false,
    "pycharm": {
     "name": "#%% md\n"
    }
   },
   "source": [
    "## Convenience Methods"
   ]
  },
  {
   "cell_type": "code",
   "execution_count": 2,
   "metadata": {
    "collapsed": false,
    "pycharm": {
     "name": "#%%\n"
    }
   },
   "outputs": [],
   "source": [
    "def rgb2gray(img: torch.Tensor):\n",
    "    \"\"\"\n",
    "    Converts an RGB image to Grayscale\n",
    "    :param img: the RGB image as a pytorch tensor\n",
    "    :return: The image as grayscale\n",
    "    \"\"\"\n",
    "    return torch.mean(img, dim=2)\n",
    "\n",
    "def downscale(img: torch.Tensor, factor):\n",
    "    \"\"\"\n",
    "    downscales the size of the given image by the given factor\n",
    "    :param img: the image as a pytorch Tensor\n",
    "    :param factor: the factor by which the dimensions of the input\n",
    "    image will be downsampled by\n",
    "    :return: the downscaled image as a pytorch Tensor\n",
    "    \"\"\"\n",
    "    r, c = img.size()\n",
    "    r = int(np.floor(r/factor))\n",
    "    c = int(np.floor(c/factor))\n",
    "    return resize(img.unsqueeze(0), [r, c]).squeeze()\n",
    "\n",
    "def convolve2d(img: Union[np.ndarray, torch.Tensor], weight: Union[np.ndarray, torch.Tensor],\n",
    "             padding: str = 'valid') -> torch.Tensor:\n",
    "    \"\"\"\n",
    "    A convenience function for convolving 2D images with 2D filters using Pytorch 2D convolution.\n",
    "    Does not alter the device of the tensor, but converts the data type to torch.float32.\n",
    "    :param img:\n",
    "    :param weight:\n",
    "    :param padding:\n",
    "    :return:\n",
    "    \"\"\"\n",
    "    if isinstance(img, np.ndarray):\n",
    "        img = torch.from_numpy(img).float()\n",
    "    if isinstance(weight, np.ndarray):\n",
    "        weight = torch.from_numpy(weight).float()\n",
    "\n",
    "    assert len(img.shape) == 2 and len(weight.shape) == 2\n",
    "    assert img.device == weight.device\n",
    "\n",
    "    img = img.unsqueeze(0).unsqueeze(0)\n",
    "    weight = weight.unsqueeze(0).unsqueeze(0)\n",
    "    return conv2d(img, weight, padding=padding).squeeze()"
   ]
  },
  {
   "cell_type": "markdown",
   "metadata": {
    "collapsed": false,
    "pycharm": {
     "name": "#%% md\n"
    }
   },
   "source": [
    "## Noise Removal functions"
   ]
  },
  {
   "cell_type": "code",
   "execution_count": 3,
   "metadata": {
    "collapsed": false,
    "pycharm": {
     "name": "#%%\n"
    }
   },
   "outputs": [],
   "source": [
    "# Box filter for smoothing\n",
    "def box_filter(img: Union[np.ndarray, torch.Tensor], diameter: int, padding: str = 'valid') -> torch.Tensor:\n",
    "    \"\"\"\n",
    "    Applies box filter to the given image\n",
    "    :param padding: Padding to be used for filtering\n",
    "    :param img: Image of interest as a torch.Tensor\n",
    "    :param diameter: the diameter of the box filter\n",
    "    :return: filtered image.\n",
    "    \"\"\"\n",
    "    box = torch.ones([diameter, diameter],\n",
    "                     dtype=torch.float,\n",
    "                     device=img.device) / diameter**2\n",
    "    return convolve2d(img, box, padding)\n",
    "\n",
    "def gaussian_filter(img: Union[np.ndarray, torch.Tensor], s_sigma: float, padding: str = 'valid') -> torch.Tensor:\n",
    "    filt_rad = int(np.floor(5 * s_sigma))\n",
    "    offset = filt_rad // 2\n",
    "    g_filt_2d = torch.zeros((filt_rad, filt_rad), dtype=torch.float32, device=img.device)\n",
    "    for i in range(filt_rad):\n",
    "        for j in range(filt_rad):\n",
    "            g_filt_2d[i, j] = np.exp(-((i - offset)**2 + (j - offset)**2) / (2 * s_sigma**2))\n",
    "    g_filt_2d = g_filt_2d / g_filt_2d.sum()\n",
    "    return convolve2d(img, g_filt_2d, padding)"
   ]
  },
  {
   "cell_type": "markdown",
   "metadata": {
    "collapsed": false,
    "pycharm": {
     "name": "#%% md\n"
    }
   },
   "source": [
    "## Gradient Estimation Functions"
   ]
  },
  {
   "cell_type": "code",
   "execution_count": 4,
   "metadata": {
    "collapsed": false,
    "pycharm": {
     "name": "#%%\n"
    }
   },
   "outputs": [],
   "source": [
    "def sobel_x(img: torch.Tensor, padding: str = 'valid') -> torch.Tensor:\n",
    "    \"\"\"\n",
    "    Computes the gradient of the image in the x-direction using\n",
    "    a sobel filter.\n",
    "    :param padding: padding type to use when applying the filter. Follows the convention of Pytorch padding types\n",
    "    :param img: image of interest, as a torch.Tensor. Can be\n",
    "    on both GPU and CPU\n",
    "    :return: Gradient estimate of the image, as a torch.Tensor,\n",
    "    on the same device as the img\n",
    "    \"\"\"\n",
    "    sobel_x_filter = torch.tensor([[1., 0., -1.],\n",
    "                                   [2., 0., -2.],\n",
    "                                   [1., 0., -1.]], device=img.device)\n",
    "    return convolve2d(img, sobel_x_filter, padding)\n",
    "\n",
    "\n",
    "def sobel_y(img: torch.Tensor):\n",
    "    \"\"\"\n",
    "    Computes the gradient of the image in the y-direction using\n",
    "    a sobel filter.\n",
    "    :param img: image of interest, as a torch.Tensor. Can be\n",
    "    on both GPU and CPU\n",
    "    :return: Gradient estimate of the image, as a torch.Tensor,\n",
    "    on the same device as the img\n",
    "    \"\"\"\n",
    "    sobel_y_filter = torch.tensor([[[[1., 2., 1.],\n",
    "                                     [0., 0., 0.],\n",
    "                                     [-1., -2., -1.]\n",
    "                                     ]]], device=img.device)\n",
    "    img = img.unsqueeze(0).unsqueeze(0).float()\n",
    "    return conv2d(img, sobel_y_filter).squeeze()\n",
    "\n",
    "\n",
    "def estimate_gradient_dirs(img: torch.Tensor) -> Tuple[torch.Tensor, torch.Tensor]:\n",
    "    return sobel_x(img), sobel_y(img)"
   ]
  },
  {
   "cell_type": "code",
   "execution_count": 16,
   "metadata": {},
   "outputs": [],
   "source": [
    "# Normalized Cross Correlation\n",
    "def norm_cross_corr(img, filt):\n",
    "    r,c = img.shape\n",
    "    ncc = torch.zeros([r,c], device=img.device, dtype=torch.float32)\n",
    "    filt_x_pad = filt.shape[0] // 2\n",
    "    filt_y_pad = filt.shape[1] // 2\n",
    "    padded = pad(img, [filt_x_pad, filt_y_pad, filt_x_pad, filt_y_pad],\n",
    "                 'constant', 0)\n",
    "\n",
    "    for i in range(r):\n",
    "        for j in range(c):\n",
    "            f = padded[i: i + filt.shape[0],\n",
    "                       j: j + filt.shape[1]]\n",
    "            len_f = torch.sqrt(torch.sum(f**2))\n",
    "            if len_f == 0:\n",
    "                norm_f = torch.zeros(f.shape)\n",
    "            else:\n",
    "                norm_f = f / len_f\n",
    "            norm_g = filt / torch.sqrt(torch.sum(filt**2))\n",
    "            ncc[i,j] = torch.dot(norm_f.flatten(), norm_g.flatten())\n",
    "            \n",
    "    return ncc\n",
    "\n",
    "\n",
    "# Harris Corner Detector\n",
    "def HarrisCorner(image, threshold, width, k):\n",
    "    # remove corners that are near the edge\n",
    "    def nearEdge(corners, width):\n",
    "\n",
    "        r,c = corners.shape\n",
    "        edge = (width - 1) // 2\n",
    "        corners[0: edge, :] = 0\n",
    "        corners[r-edge: r, :] = 0\n",
    "\n",
    "        corners[:, 0: edge] = 0\n",
    "        corners[:, c - edge: c] = 0\n",
    "\n",
    "        return corners\n",
    "    # Find gradients\n",
    "    Ix = sobel_x(image)\n",
    "    Iy = sobel_y(image)\n",
    "    R =  harris_corner(Ix, Iy, width, k)\n",
    "    # Ixx = Ix**2\n",
    "    # Iyy = Iy**2\n",
    "    #\n",
    "    # # Compute R values\n",
    "    # detM = Ixx * Iyy\n",
    "    # traceM = Ixx + Iyy\n",
    "    # R = detM - k * traceM**2\n",
    "\n",
    "    # Threshold values\n",
    "    R[R < threshold * torch.max(R)] = 0\n",
    "    \n",
    "    # Nonmax Supression\n",
    "    R = corner_nms(R, 1)\n",
    "\n",
    "    # Remove corners near the edge\n",
    "    # R = nearEdge(R, width)\n",
    "\n",
    "    return R\n",
    "\n",
    "\n",
    "# Reduce threshold until ~1% of pixels are corners\n",
    "def reducedHarris(image, width, k, density):\n",
    "\n",
    "    threshold = 1.0\n",
    "    ratio = density + 1\n",
    "    while ratio >= density:\n",
    "        threshold = 0.9 * threshold\n",
    "\n",
    "        corners = HarrisCorner(image, threshold, width, k)\n",
    "        # Number of corners\n",
    "        # idx = torch.where(corners>0)\n",
    "        # idx = torch.tensor(idx).T\n",
    "        # ratio = image.numel() / idx.shape[0]\n",
    "    \n",
    "    # print('Corners:', idx.shape[0])\n",
    "\n",
    "    return corners\n",
    "\n",
    "\n",
    "# Draw lines between matches\n",
    "def drawLines(image1,image2,matches,threshold):\n",
    "\n",
    "    offset = image1.shape[0]\n",
    "    x = np.copy(matches[:,0:4:2])\n",
    "    x[:,1] = x[:,1] + offset\n",
    "    y = np.copy(matches[:,1:4:2])\n",
    "\n",
    "    both = np.vstack([image1,image2])\n",
    "    plt.imshow(both,cmap='gray')\n",
    "    for i in range(0,x.shape[0]):\n",
    "        if matches[i,-1] >= threshold:\n",
    "            plt.plot(y[i,:],x[i,:])\n",
    "    plt.axis('off')\n",
    "    \n",
    "    return\n",
    "\n",
    "\n",
    "# Normalized Cross Correlation of two equal shaped patches\n",
    "def patchNCC(f,g):\n",
    "\n",
    "    len_f = np.sqrt(np.sum(f**2))\n",
    "    norm_f = f/len_f\n",
    "\n",
    "    len_g = np.sqrt(np.sum(g**2))\n",
    "    norm_g = g/len_g\n",
    "\n",
    "    norm_f = np.reshape(norm_f,[1,f.size])\n",
    "    norm_g = np.reshape(norm_g,[g.size,1])\n",
    "    ncc = np.dot(norm_f,norm_g)\n",
    "            \n",
    "    return ncc\n",
    "\n",
    "\n",
    "# Find matches from im1 to im2\n",
    "def patch2patch(im1,im2,corners1,corners2,width,num_matches):\n",
    "\n",
    "    # Patch from location\n",
    "    def getPatch(im,r,c,width):\n",
    "        left = int( (width-1)/2 )\n",
    "        right = int( (width-1)/2 + 1 )\n",
    "        patch = im[r-left:r+right,c-left:c+right]\n",
    "        return patch\n",
    "\n",
    "    def cornerCoord(corners):\n",
    "        idx = np.where(corners>0)\n",
    "        idx = np.array(idx).T\n",
    "        return idx\n",
    "\n",
    "    # Find patch coordinates\n",
    "    coord1 = cornerCoord(corners1)\n",
    "    coord2 = cornerCoord(corners2)\n",
    "\n",
    "    matches = np.zeros([num_matches,5])\n",
    "    \n",
    "    i = 0\n",
    "    while i<num_matches:\n",
    "        r1 = coord1[i,0]\n",
    "        c1 = coord1[i,1]\n",
    "        match = np.array([r1,c1,0,0,0])\n",
    "  \n",
    "        # Match the patch to second image\n",
    "        patch1 = getPatch(im1,r1,c1,width)\n",
    "    \n",
    "        for j in range(coord2.shape[0]):\n",
    "            r2 = coord2[j,0]\n",
    "            c2 = coord2[j,1]\n",
    "            patch2 = getPatch(im2,r2,c2,width)\n",
    "\n",
    "            ncc = patchNCC(patch1,patch2)\n",
    "            if ncc >= match[4]:\n",
    "                match = [r1,c1,r2,c2,ncc]\n",
    "\n",
    "        matches[i,:] = match\n",
    "        i+=1\n",
    "\n",
    "    return matches"
   ]
  },
  {
   "cell_type": "markdown",
   "metadata": {},
   "source": [
    "# Load Image, Reduce Size, Convert to Gray"
   ]
  },
  {
   "cell_type": "code",
   "execution_count": 23,
   "metadata": {},
   "outputs": [],
   "source": [
    "# Load image1\n",
    "file = 'DanaHallWay1/DSC_0282.JPG'\n",
    "file = 'DanaOffice/DSC_0308.JPG'\n",
    "image1 = torch.tensor(np.array(Image.open(file)), dtype=torch.float32).cuda()\n",
    "\n",
    "\n",
    "# resize = torch.max(image.) / 100\n",
    "#\n",
    "# # Reduce resolution\n",
    "gray1 = rgb2gray(image1)\n",
    "gray1 = downscale(gray1, 4)\n",
    "# Convert to grayscale\n",
    "\n",
    "\n",
    "# Load image2\n",
    "file = 'DanaHallWay1/DSC_0283.JPG'\n",
    "file = 'DanaOffice/DSC_0309.JPG'\n",
    "image2 = torch.tensor(np.array(Image.open(file)), dtype=torch.float32).cuda()\n",
    "# Reduce resolution\n",
    "gray2 = rgb2gray(image2)\n",
    "gray2 = downscale(gray2, 4)\n",
    "# Convert to grayscale\n"
   ]
  },
  {
   "cell_type": "markdown",
   "metadata": {},
   "source": [
    "# Add blurring to reduce noise level"
   ]
  },
  {
   "cell_type": "code",
   "execution_count": 27,
   "metadata": {},
   "outputs": [],
   "source": [
    "# Smooth image\n",
    "blur = 3\n",
    "im1 = box_filter(gray1, 3)\n",
    "im2 = box_filter(gray2, 3)"
   ]
  },
  {
   "cell_type": "code",
   "execution_count": 28,
   "metadata": {},
   "outputs": [
    {
     "name": "stdout",
     "output_type": "stream",
     "text": [
      "Finding corners...\n",
      "1\n",
      "2\n"
     ]
    },
    {
     "data": {
      "image/png": "[encoded data removed]",
      "text/plain": [
       "<Figure size 432x288 with 1 Axes>"
      ]
     },
     "metadata": {
      "needs_background": "light"
     },
     "output_type": "display_data"
    }
   ],
   "source": [
    "# Find sparse corners\n",
    "print('Finding corners...')\n",
    "width = 2\n",
    "k = 0.04\n",
    "density = 100\n",
    "corners1 = HarrisCorner(im1,0.0, width,k)\n",
    "print(\"1\")\n",
    "corners2 = HarrisCorner(im2,0.0, width,k)\n",
    "print(\"2\")\n",
    "\n",
    "\n",
    "plt.imshow(gray1.cpu().numpy(),cmap='gray')\n",
    "plt.imshow(corners1.cpu().numpy()>0,cmap='gray',alpha=0.7)\n",
    "\n",
    "plt.axis('off')\n",
    "plt.savefig('k0600.png', dpi=200, bbox_inches='tight', pad_inches=0)"
   ]
  },
  {
   "cell_type": "code",
   "execution_count": 26,
   "metadata": {
    "collapsed": false,
    "pycharm": {
     "name": "#%%\n"
    }
   },
   "outputs": [
    {
     "name": "stdout",
     "output_type": "stream",
     "text": [
      "tensor(81, device='cuda:0')\n"
     ]
    }
   ],
   "source": [
    "print((corners1 > 0).sum())"
   ]
  },
  {
   "cell_type": "code",
   "execution_count": null,
   "metadata": {},
   "outputs": [],
   "source": [
    "# Find matches\n",
    "print('Finding matches...')\n",
    "num_matches = torch.sum(corners1>0)\n",
    "print(\"\")\n",
    "matches = patch2patch(im1,im2,corners1,corners2,width,num_matches)\n",
    "print(matches.shape[0],'matches found.')\n",
    "drawLines(gray1,gray2,matches,0.95)"
   ]
  },
  {
   "cell_type": "code",
   "execution_count": null,
   "metadata": {},
   "outputs": [],
   "source": [
    "print(matches)"
   ]
  }
 ],
 "metadata": {
  "interpreter": {
   "hash": "916dbcbb3f70747c44a77c7bcd40155683ae19c65e1c03b4aa3499c5328201f1"
  },
  "kernelspec": {
   "display_name": "Python 3 (ipykernel)",
   "language": "python",
   "name": "python3"
  },
  "language_info": {
   "codemirror_mode": {
    "name": "ipython",
    "version": 3
   },
   "file_extension": ".py",
   "mimetype": "text/x-python",
   "name": "python",
   "nbconvert_exporter": "python",
   "pygments_lexer": "ipython3",
   "version": "3.9.5"
  },
  "orig_nbformat": 4
 },
 "nbformat": 4,
 "nbformat_minor": 2
}
