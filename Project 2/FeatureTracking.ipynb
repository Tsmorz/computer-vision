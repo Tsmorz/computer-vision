{
 "cells": [
  {
   "cell_type": "markdown",
   "metadata": {},
   "source": [
    "# Feature Tracking\n",
    "Various feature tracking algorithms"
   ]
  },
  {
   "cell_type": "code",
   "execution_count": 118,
   "metadata": {},
   "outputs": [],
   "source": [
    "import numpy as np\n",
    "from scipy import ndimage as nd\n",
    "import math\n",
    "from PIL import Image\n",
    "import matplotlib.pyplot as plt"
   ]
  },
  {
   "cell_type": "code",
   "execution_count": 119,
   "metadata": {},
   "outputs": [],
   "source": [
    "# Gradient in x-direction\n",
    "def Sobelx(image):\n",
    "    sobelx = np.array([[1,0,-1],\n",
    "                    [2,0,-2],\n",
    "                    [1,0,-1]])\n",
    "    Ix = nd.convolve(image,sobelx)           \n",
    "    return Ix\n",
    "\n",
    "\n",
    "# Gradient in y-direction\n",
    "def Sobely(image):\n",
    "    sobely = np.array([[ 1, 2, 1],\n",
    "                    [ 0, 0, 0],\n",
    "                    [-1,-2,-1]])\n",
    "\n",
    "    Iy = nd.convolve(image,sobely)\n",
    "    return Iy\n",
    "\n",
    "\n",
    "# Convert RGB to grayscale\n",
    "def rgb2gray(image):\n",
    "    image = np.array(image)\n",
    "    r, c, ch = image.shape\n",
    "    gray = np.zeros([r,c])\n",
    "\n",
    "    gray = np.mean(image, axis=2)\n",
    "    return gray\n",
    "\n",
    "\n",
    "# Reduce image size\n",
    "def reduceRes(image,factor):\n",
    "    r,c = image.size\n",
    "    r = np.int(np.floor(r/factor))\n",
    "    c = np.int(np.floor(c/factor))\n",
    "    new = image.resize((r,c))\n",
    "    return new\n",
    "\n",
    "\n",
    "# Box filter for smoothing\n",
    "def boxFilter(rc):\n",
    "    box = np.ones([rc,rc])/rc**2\n",
    "    return box\n"
   ]
  },
  {
   "cell_type": "code",
   "execution_count": 120,
   "metadata": {},
   "outputs": [],
   "source": [
    "# Load image\n",
    "file = 'edges.jpg'\n",
    "im = Image.open(file)\n",
    "\n",
    "# Reduce resolution\n",
    "im = reduceRes(im,5)\n",
    "\n",
    "# Convert to grayscale\n",
    "gray = rgb2gray(im)"
   ]
  },
  {
   "cell_type": "code",
   "execution_count": 125,
   "metadata": {},
   "outputs": [
    {
     "data": {
      "text/plain": [
       "<matplotlib.image.AxesImage at 0x7f4a23480f10>"
      ]
     },
     "execution_count": 125,
     "metadata": {},
     "output_type": "execute_result"
    },
    {
     "data": {
      "image/png": "[encoded data removed]",
      "text/plain": [
       "<Figure size 432x288 with 1 Axes>"
      ]
     },
     "metadata": {
      "needs_background": "light"
     },
     "output_type": "display_data"
    }
   ],
   "source": [
    "# Smooth image\n",
    "smooth = nd.convolve(gray,boxFilter(11))\n",
    "\n",
    "# Find gradients\n",
    "Ix = Sobelx(smooth)\n",
    "Iy = Sobely(smooth)\n",
    "mag = np.sqrt(Ix**2+Iy**2)\n",
    "\n",
    "threshold = 0.25\n",
    "mask = 1*( mag >= threshold*np.amax(mag))\n",
    "\n",
    "# Show Image\n",
    "plt.imshow(mask, cmap='gray')"
   ]
  },
  {
   "cell_type": "markdown",
   "metadata": {},
   "source": [
    "# SIFT\n",
    "The scale-invariant feature transform (SIFT) is a computer vision algorithm to detect, describe, and match local features in images, invented by David Lowe in 1999.[1] Applications include object recognition, robotic mapping and navigation, image stitching, 3D modeling, gesture recognition, video tracking, individual identification of wildlife and match moving. "
   ]
  },
  {
   "cell_type": "code",
   "execution_count": 122,
   "metadata": {},
   "outputs": [],
   "source": [
    "# SIFT"
   ]
  }
 ],
 "metadata": {
  "interpreter": {
   "hash": "916dbcbb3f70747c44a77c7bcd40155683ae19c65e1c03b4aa3499c5328201f1"
  },
  "kernelspec": {
   "display_name": "Python 3.9.5 64-bit",
   "name": "python3"
  },
  "language_info": {
   "codemirror_mode": {
    "name": "ipython",
    "version": 3
   },
   "file_extension": ".py",
   "mimetype": "text/x-python",
   "name": "python",
   "nbconvert_exporter": "python",
   "pygments_lexer": "ipython3",
   "version": "3.9.5"
  },
  "orig_nbformat": 4
 },
 "nbformat": 4,
 "nbformat_minor": 2
}
