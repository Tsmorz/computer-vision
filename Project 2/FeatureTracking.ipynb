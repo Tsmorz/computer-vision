{
 "cells": [
  {
   "cell_type": "markdown",
   "metadata": {},
   "source": [
    "# Harris Corner Detector"
   ]
  },
  {
   "cell_type": "code",
   "execution_count": null,
   "metadata": {},
   "outputs": [],
   "source": [
    "import numpy as np\n",
    "from scipy import ndimage as nd\n",
    "import math\n",
    "from PIL import Image, ImageDraw\n",
    "import matplotlib.pyplot as plt"
   ]
  },
  {
   "cell_type": "markdown",
   "metadata": {},
   "source": [
    "old functions"
   ]
  },
  {
   "cell_type": "code",
   "execution_count": null,
   "metadata": {},
   "outputs": [],
   "source": [
    "# Gradient in x-direction\n",
    "def Sobelx(image):\n",
    "    sobelx = np.array([[1,0,-1],\n",
    "                    [2,0,-2],\n",
    "                    [1,0,-1]])\n",
    "    Ix = nd.convolve(image,sobelx)           \n",
    "    return Ix\n",
    "\n",
    "\n",
    "# Gradient in y-direction\n",
    "def Sobely(image):\n",
    "    sobely = np.array([[ 1, 2, 1],\n",
    "                    [ 0, 0, 0],\n",
    "                    [-1,-2,-1]])\n",
    "\n",
    "    Iy = nd.convolve(image,sobely)\n",
    "    return Iy\n",
    "\n",
    "\n",
    "# Convert RGB to grayscale\n",
    "def rgb2gray(image):\n",
    "    image = np.array(image)\n",
    "    r, c, ch = image.shape\n",
    "    gray = np.zeros([r,c])\n",
    "\n",
    "    gray = np.mean(image, axis=2)\n",
    "    return gray\n",
    "\n",
    "\n",
    "# Reduce image size\n",
    "def reduceRes(image,factor):\n",
    "    r,c = image.size\n",
    "    r = np.int(np.floor(r/factor))\n",
    "    c = np.int(np.floor(c/factor))\n",
    "    new = image.resize((r,c))\n",
    "    return new\n",
    "\n",
    "\n",
    "# Box filter for smoothing\n",
    "def boxFilter(image,rc):\n",
    "    box = np.ones([rc,rc])/rc**2\n",
    "    image = nd.convolve(gray,box)\n",
    "    return image\n",
    "\n",
    "\n",
    "# Pad image with zeros\n",
    "def pad(image,factor):\n",
    "    r_img, c_img = image.shape\n",
    "    pad = np.zeros([r_img,factor])\n",
    "    image = np.hstack([pad,image,pad])\n",
    "\n",
    "    r_img, c_img = image.shape\n",
    "    pad = np.zeros([factor,c_img])\n",
    "    image = np.vstack([pad,image,pad])\n",
    "\n",
    "    return image\n",
    "\n",
    "\n",
    "# Peak finding for nonmax supression\n",
    "def peaks(image,window):\n",
    "    factor = int(np.floor(window/2))\n",
    "    image = pad(image,factor)\n",
    "    peaks = np.zeros([image.shape[0],image.shape[1]])\n",
    "\n",
    "    for i in range(1,image.shape[0]-1):\n",
    "        for j in range(1,image.shape[1]-1):\n",
    "            window = image[i-1:i+2,j-1:j+2]\n",
    "            if image[i,j]==np.amax(window):\n",
    "                peaks[i,j] = image[i,j]\n",
    "\n",
    "\n",
    "    # remove padding\n",
    "    peaks = peaks[factor:-factor,factor:-factor]\n",
    "\n",
    "    return peaks\n",
    "\n",
    "\n",
    "# Norm CC feature matching\n",
    "def norm_cross_corr(image,filter):\n",
    "    r,c = image.shape\n",
    "    ncc = np.zeros([r,c])\n",
    "    \n",
    "    add = np.int((filter.shape[0]-1)/2)\n",
    "    padded = pad(image,add)\n",
    "\n",
    "    for i in range(r):\n",
    "        for j in range(c):\n",
    "            f = padded[i:i+filter.shape[0],j:j+filter.shape[1]]\n",
    "            if np.sum(np.sqrt(f**2))==0:\n",
    "                norm_f = np.zeros([f.shape[0],f.shape[1]])\n",
    "            else:\n",
    "                norm_f = f/np.sqrt(np.sum(f**2))\n",
    "            norm_g = filter/np.sqrt(np.sum(filter**2))\n",
    "\n",
    "            norm_f = np.reshape(norm_f,[1,filter.size])\n",
    "            norm_g = np.reshape(norm_g,[filter.size,1])\n",
    "\n",
    "            ncc[i,j] = np.dot(norm_f,norm_g)\n",
    "            \n",
    "    return ncc"
   ]
  },
  {
   "cell_type": "markdown",
   "metadata": {},
   "source": [
    "Functions for project 2"
   ]
  },
  {
   "cell_type": "code",
   "execution_count": null,
   "metadata": {},
   "outputs": [],
   "source": [
    "# Harris Corner Detector\n",
    "def HarrisCorner(image,threshold):\n",
    "\n",
    "    # Find gradients\n",
    "    Ix = Sobelx(image)\n",
    "    Iy = Sobely(image)\n",
    "    Ixx = Ix**2\n",
    "    Iyy = Iy**2\n",
    "\n",
    "    # Compute R values\n",
    "    detM = Ixx*Iyy\n",
    "    traceM = Ixx+Iyy\n",
    "    k = 0.05\n",
    "    R = detM - k*traceM**2\n",
    "\n",
    "    # Threshold values\n",
    "    R[R <= threshold*np.amax(R)] = 0\n",
    "    \n",
    "    # Nonmax Supression\n",
    "    R = peaks(R,3)\n",
    "\n",
    "    return R\n",
    "\n",
    "\n",
    "# Reduce threshold until ~1% of pixels are corners\n",
    "def reducedHarris(image,ratio):\n",
    "    threshold = 1.0\n",
    "    while ratio >= 100:\n",
    "        threshold = 0.1*threshold\n",
    "\n",
    "        corners = HarrisCorner(image,threshold)\n",
    "        # Number of corners\n",
    "        idx = np.where(corners>0)\n",
    "        idx = np.array(idx).T\n",
    "        ratio = image.size/idx.shape[0]\n",
    "\n",
    "    print('Threshold:',threshold)\n",
    "    print('Corners:',idx.shape[0])\n",
    "\n",
    "    return corners\n",
    "\n",
    "\n",
    "# Improve corners from HCD\n",
    "def neighboringCorner(corners,width,num_corners):\n",
    "    # Remove isolated corners in a window\n",
    "\n",
    "    good_corners = np.copy(corners)\n",
    "    good_corners[good_corners>0] = 1\n",
    "    good_corners[good_corners<0] = 0\n",
    "    print('Previous corners:', np.sum(good_corners))\n",
    "\n",
    "    filter = np.ones([width,width])\n",
    "    neighbors = nd.convolve(good_corners,filter)\n",
    "\n",
    "    neighbors[neighbors<num_corners] = 0\n",
    "    neighbors[neighbors>=num_corners] = 1\n",
    "    neighbors = neighbors*good_corners\n",
    "\n",
    "    print('Better corners:',np.sum(neighbors))\n",
    "\n",
    "    return corners*neighbors\n",
    "\n",
    "\n",
    "# Find matches from im1 to im2\n",
    "def findMatches(corners1,corners2,width,num_matches):\n",
    "    \n",
    "    matches = np.zeros([num_matches,4])\n",
    "    i = 0\n",
    "    while i<num_matches:\n",
    "        # Get a random patch location\n",
    "        idx = np.where(corners1>0)\n",
    "        idx = np.array(idx).T\n",
    "        rand_corner = np.random.randint(idx.shape[0],size=1)\n",
    "        loc = idx[rand_corner,:]\n",
    "        loc = np.concatenate(loc)\n",
    "        r = loc[0]\n",
    "        c = loc[1]\n",
    "\n",
    "        # Patch from location\n",
    "        left = np.int( (width-1)/2 )\n",
    "        right = np.int( (width-1)/2 + 1 )\n",
    "        patch = np.around(corners[r-left:r+right,c-left:c+right])\n",
    "\n",
    "        # Match the patch to second image\n",
    "        fit = norm_cross_corr(corners2,patch)\n",
    "        best = np.where(fit==np.amax(fit))\n",
    "        best = np.array(best).T\n",
    "\n",
    "        if best.shape[0] == 1:\n",
    "            print(\"Match #\",i+1)\n",
    "            print(np.amax(fit))\n",
    "            best = np.concatenate(best)\n",
    "            matches[i,:] = np.array([r,c,best[0],best[1]])\n",
    "            i+=1\n",
    "\n",
    "    return matches\n"
   ]
  },
  {
   "cell_type": "markdown",
   "metadata": {},
   "source": [
    "# Load Image, Reduce Resolution, RGB to Gray"
   ]
  },
  {
   "cell_type": "code",
   "execution_count": null,
   "metadata": {},
   "outputs": [],
   "source": [
    "# Load image\n",
    "file = 'boston_skyline.jpg'\n",
    "image = Image.open(file)\n",
    "\n",
    "# Reduce resolution\n",
    "image = reduceRes(image,2)\n",
    "\n",
    "# Convert to grayscale\n",
    "gray = rgb2gray(image)\n",
    "\n",
    "# Smooth image\n",
    "gray = boxFilter(gray,3)\n",
    "\n",
    "plt.imshow(image)"
   ]
  },
  {
   "cell_type": "markdown",
   "metadata": {},
   "source": [
    "# Find Corners\n",
    "with a threshold of <100 pixels/corner"
   ]
  },
  {
   "cell_type": "code",
   "execution_count": null,
   "metadata": {},
   "outputs": [],
   "source": [
    "ratio = 1000\n",
    "corners = reducedHarris(gray,ratio)\n",
    "\n",
    "plt.imshow(image)\n",
    "plt.imshow(corners>0, cmap = \"jet\", alpha = 0.4)"
   ]
  },
  {
   "cell_type": "markdown",
   "metadata": {},
   "source": [
    "# Find corners with neighbors in filter window\n",
    "Becaues the NCC of both these arrays are equal:\\\n",
    "0,0,0 -> 0,0,0\\\n",
    "0,1,0 -> 0,5,0\\\n",
    "0,0,0 -> 0,0,0\\\n",
    "Isolated corners are matches on both images\n",
    "This also means that the NCC filter needs to be larger than 3-by-3"
   ]
  },
  {
   "cell_type": "code",
   "execution_count": null,
   "metadata": {},
   "outputs": [],
   "source": [
    "width = 7\n",
    "num_corners = 2\n",
    "better_corners = neighboringCorner(corners,width,num_corners)\n",
    "\n",
    "plt.imshow(image)\n",
    "plt.imshow(better_corners>0, cmap = \"jet\", alpha = 0.5)"
   ]
  },
  {
   "cell_type": "markdown",
   "metadata": {},
   "source": [
    "# Match corners with Normalized Cross Correlation\n",
    "Throwout matches with more than one best match"
   ]
  },
  {
   "cell_type": "code",
   "execution_count": null,
   "metadata": {},
   "outputs": [],
   "source": [
    "corners2 = np.copy(better_corners)\n",
    "num_matches = 3\n",
    "matches = findMatches(better_corners,corners2,width,num_matches)\n",
    "\n",
    "print(matches)"
   ]
  },
  {
   "cell_type": "markdown",
   "metadata": {},
   "source": [
    "# Put it all together"
   ]
  },
  {
   "cell_type": "markdown",
   "metadata": {},
   "source": [
    "Preprocessing"
   ]
  },
  {
   "cell_type": "code",
   "execution_count": 66,
   "metadata": {},
   "outputs": [],
   "source": [
    "# Load image\n",
    "file = 'boston_skyline.jpg'\n",
    "image = Image.open(file)\n",
    "\n",
    "# Reduce resolution\n",
    "image = reduceRes(image,2)\n",
    "\n",
    "# Convert to grayscale\n",
    "gray = rgb2gray(image)\n",
    "\n",
    "# Smooth image\n",
    "gray = boxFilter(gray,3)"
   ]
  },
  {
   "cell_type": "markdown",
   "metadata": {},
   "source": [
    "Split images"
   ]
  },
  {
   "cell_type": "code",
   "execution_count": 67,
   "metadata": {},
   "outputs": [],
   "source": [
    "# Split image into top left and bottom right with overlap\n",
    "r,c = gray.shape\n",
    "split = 5\n",
    "topleft = gray[0:np.int(np.floor(r-r/split)), 0:np.int(np.floor(c-c/split))]\n",
    "botright = gray[np.int(np.floor(r-(split-1)*r/split)):, np.int(np.floor(c-(split-1)*c/split)):]"
   ]
  },
  {
   "cell_type": "markdown",
   "metadata": {},
   "source": [
    "Find corners"
   ]
  },
  {
   "cell_type": "code",
   "execution_count": 69,
   "metadata": {},
   "outputs": [
    {
     "name": "stdout",
     "output_type": "stream",
     "text": [
      "Finding corners...\n",
      "Threshold: 0.0010000000000000002\n",
      "Corners: 948\n",
      "Threshold: 0.0010000000000000002\n",
      "Corners: 868\n",
      "Improving corners...\n",
      "Previous corners: 948.0\n",
      "Better corners: 787.0\n",
      "Previous corners: 868.0\n",
      "Better corners: 710.0\n"
     ]
    }
   ],
   "source": [
    "# Find sparse corners\n",
    "print('Finding corners...')\n",
    "ratio = 1000\n",
    "corners1 = reducedHarris(topleft,ratio)\n",
    "corners2 = reducedHarris(botright,ratio)\n",
    "\n",
    "# Improve corners\n",
    "print('Improving corners...')\n",
    "width = 7\n",
    "num_corners = 2\n",
    "better_corners1 = neighboringCorner(corners1,width,num_corners)\n",
    "better_corners2 = neighboringCorner(corners2,width,num_corners)"
   ]
  },
  {
   "cell_type": "code",
   "execution_count": 72,
   "metadata": {},
   "outputs": [
    {
     "name": "stdout",
     "output_type": "stream",
     "text": [
      "Finding matches...\n",
      "Match # 1\n",
      "0.9955133164600107\n",
      "Match # 2\n",
      "0.9999406680556594\n",
      "Match # 3\n",
      "0.9999999999999998\n",
      "Match # 4\n",
      "1.0\n",
      "Match # 5\n",
      "1.0\n",
      "Match # 6\n",
      "0.892000175962715\n",
      "Match # 7\n",
      "0.9999967965260859\n",
      "Match # 8\n",
      "0.9945802314135554\n",
      "Match # 9\n",
      "1.0\n",
      "Match # 10\n",
      "1.0\n",
      "Match # 11\n",
      "0.999946694685343\n",
      "Match # 12\n",
      "1.0000000000000002\n",
      "Match # 13\n",
      "1.0\n",
      "Match # 14\n",
      "1.0\n",
      "Match # 15\n",
      "0.9964051710068835\n"
     ]
    }
   ],
   "source": [
    "# Find matches\n",
    "print('Finding matches...')\n",
    "num_matches = 15\n",
    "matches = findMatches(better_corners1,better_corners2,width,num_matches)"
   ]
  },
  {
   "cell_type": "markdown",
   "metadata": {},
   "source": [
    "Draw lines between matches"
   ]
  },
  {
   "cell_type": "code",
   "execution_count": 73,
   "metadata": {},
   "outputs": [
    {
     "data": {
      "image/png": "[encoded data removed]",
      "text/plain": [
       "<Figure size 432x288 with 1 Axes>"
      ]
     },
     "metadata": {
      "needs_background": "light"
     },
     "output_type": "display_data"
    }
   ],
   "source": [
    "def drawLines(image1,image2,matches):\n",
    "\n",
    "    offset = image1.shape[0]\n",
    "    x = np.copy(matches[:,0:4:2])\n",
    "    x[:,1] = x[:,1] + offset\n",
    "    y = np.copy(matches[:,1:4:2])\n",
    "\n",
    "    both = np.vstack([image1,image2])\n",
    "    plt.imshow(both,cmap='gray')\n",
    "    for i in range(0,x.shape[0]):\n",
    "        plt.plot(y[i,:],x[i,:])\n",
    "    \n",
    "    return\n",
    "\n",
    "drawLines(topleft,botright,matches)"
   ]
  }
 ],
 "metadata": {
  "interpreter": {
   "hash": "916dbcbb3f70747c44a77c7bcd40155683ae19c65e1c03b4aa3499c5328201f1"
  },
  "kernelspec": {
   "display_name": "Python 3.9.5 64-bit",
   "name": "python3"
  },
  "language_info": {
   "codemirror_mode": {
    "name": "ipython",
    "version": 3
   },
   "file_extension": ".py",
   "mimetype": "text/x-python",
   "name": "python",
   "nbconvert_exporter": "python",
   "pygments_lexer": "ipython3",
   "version": "3.9.5"
  },
  "orig_nbformat": 4
 },
 "nbformat": 4,
 "nbformat_minor": 2
}
