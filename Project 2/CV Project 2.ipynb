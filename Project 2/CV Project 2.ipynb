{
 "cells": [
  {
   "cell_type": "markdown",
   "metadata": {},
   "source": [
    "# Hough Transform Testing"
   ]
  },
  {
   "cell_type": "code",
   "execution_count": 5,
   "metadata": {},
   "outputs": [],
   "source": [
    "import numpy as np\n",
    "import math\n",
    "import matplotlib.pyplot as plt\n",
    "from scipy import ndimage as nd\n",
    "import random\n",
    "from PIL import Image"
   ]
  },
  {
   "cell_type": "code",
   "execution_count": 6,
   "metadata": {},
   "outputs": [],
   "source": [
    "# Find all normal lines from point pairs\n",
    "def points2lines(points):\n",
    "    lines = np.zeros([1,3])\n",
    "    r,c = points.shape\n",
    "    while(r>1):\n",
    "        for i in np.arange(1,r):\n",
    "            line = np.cross(points[0,:], points[i,:])\n",
    "            lines = np.vstack([lines, line])\n",
    "        points = points[1:,:]\n",
    "        r,c = points.shape\n",
    "    lines = lines[1:,:]\n",
    " \n",
    "    return lines\n",
    "\n",
    "\n",
    "# Convert linear eqn to rho-theta\n",
    "def plane2hough(lines):\n",
    "\n",
    "    slope = -lines[0]/lines[1]\n",
    "    theta = math.atan(-1/slope)\n",
    "    if theta !=(0):\n",
    "        b = -lines[2]/lines[1]\n",
    "        x = -b/(slope+1/slope)\n",
    "        y = slope*x + b\n",
    "        rho = x*np.cos(theta) + y*np.sin(theta)\n",
    "    else:\n",
    "        rho = -lines[2]/lines[0]\n",
    "    rhotheta = [rho, theta]\n",
    "\n",
    "    return rhotheta\n",
    "\n",
    "\n",
    "# Gradient in x-direction\n",
    "def Sobelx(image):\n",
    "    sobelx = np.array([[1,0,-1],\n",
    "                    [2,0,-2],\n",
    "                    [1,0,-1]])\n",
    "    Ix = nd.convolve(image,sobelx)           \n",
    "    return Ix\n",
    "\n",
    "\n",
    "# Gradient in y-direction\n",
    "def Sobely(image):\n",
    "    sobely = np.array([[ 1, 2, 1],\n",
    "                    [ 0, 0, 0],\n",
    "                    [-1,-2,-1]])\n",
    "\n",
    "    Iy = nd.convolve(image,sobely)\n",
    "    return Iy\n",
    "\n",
    "\n",
    "# Convert RGB to grayscale\n",
    "def rgb2gray(image):\n",
    "\n",
    "    image = np.array(image)\n",
    "    r, c, ch = image.shape\n",
    "    gray = np.zeros([r,c])\n",
    "\n",
    "    gray = np.mean(image, axis=2)\n",
    "    return gray"
   ]
  },
  {
   "cell_type": "markdown",
   "metadata": {},
   "source": [
    "# RANSAC\n",
    "\"The input to the RANSAC algorithm is a set of observed data values, a way of fitting some kind of model to the observations, and some confidence parameters. RANSAC achieves its goal by repeating the following steps:\n",
    "\n",
    "1. Select a random subset of the original data. Call this subset the hypothetical inliers.\n",
    "2. A model is fitted to the set of hypothetical inliers.\n",
    "3. All other data are then tested against the fitted model. Those points that fit the estimated model well, according to some model-specific loss function, are considered as part of the consensus set.\n",
    "4. The estimated model is reasonably good if sufficiently many points have been classified as part of the consensus set.\n",
    "5. Afterwards, the model may be improved by reestimating it using all members of the consensus set.\n",
    "\n",
    "This procedure is repeated a fixed number of times, each time producing either a model which is rejected because too few points are part of the consensus set, or a refined model together with a corresponding consensus set size. In the latter case, we keep the refined model if its consensus set is larger than the previously saved model.\"\n",
    "\n",
    "https://en.wikipedia.org/wiki/Random_sample_consensus"
   ]
  },
  {
   "cell_type": "code",
   "execution_count": 7,
   "metadata": {},
   "outputs": [],
   "source": [
    "def RANSAC(data,e,s,threshold):\n",
    "    # data = contaminated points\n",
    "    # e = probablility that point is an outlier\n",
    "    # s = min number of points needed to fit model\n",
    "    # threshold = allowed distance from model to surrounding points\n",
    "\n",
    "    # Calculate how many points match the model\n",
    "    def getInliers(pair,data,threshold):\n",
    "\n",
    "        # Convert edgels to (a,b,c)\n",
    "        plane = points2lines(pair)\n",
    "        plane = np.concatenate(plane)\n",
    "        \n",
    "        # Edgel distance to plane\n",
    "        plane_norm = np.sqrt(np.sum(plane[0:2]**2))\n",
    "        dist = np.abs(np.dot(data,plane.T)) / plane_norm\n",
    "        \n",
    "        inliers = data[dist <= threshold]\n",
    "        inliers = inliers.astype(int)\n",
    "\n",
    "        return inliers\n",
    "\n",
    "    # Find data points that best fit the data\n",
    "    def findfit(N,T,data,threshold):\n",
    "        votes = np.zeros(data.shape[1]+1)\n",
    "        i = 0\n",
    "        while i < N:\n",
    "            # Find two random edgels\n",
    "            pair = np.random.randint(data.shape[0],size=2)\n",
    "\n",
    "            # Insure pairs are unique\n",
    "            while pair[0] == pair[1]:\n",
    "                pair[1] = np.random.randint(data.shape[0])\n",
    "            point_pair = data[pair]\n",
    "\n",
    "            inliers = getInliers(point_pair,data,threshold)\n",
    "            num_inlier = np.sum(inliers[:,2])\n",
    "\n",
    "            if num_inlier > votes[0]:\n",
    "                votes = np.hstack([num_inlier, np.reshape(point_pair,2*data.shape[1])])\n",
    "                \n",
    "                if num_inlier >= T:\n",
    "                    break\n",
    "\n",
    "            i += 1\n",
    "        return votes\n",
    "\n",
    "    # Add a column of 1's to the end\n",
    "    r,c = data.shape\n",
    "    data = np.hstack([data, np.ones([r,1])])\n",
    "         \n",
    "    # probability that one sample is clean\n",
    "    p = 0.99\n",
    "\n",
    "    # number of samples needed\n",
    "    N = np.log(1-p) / np.log(1-(1-e)**s)\n",
    "    N = np.int(np.round(N))\n",
    "\n",
    "    # Stop search when this number has been reached\n",
    "    T = (1-e)*data.shape[0]\n",
    "\n",
    "    # Fit with all data\n",
    "    votes = findfit(N,T,data,threshold)\n",
    "    \n",
    "    # Refit with only inliers\n",
    "    pair = np.reshape(votes[1:], (2,data.shape[1]))\n",
    "    inliers = getInliers(pair,data,threshold)\n",
    "\n",
    "    # Reduce error and threshold\n",
    "    e = e/4\n",
    "    threshold = threshold/3\n",
    "    T = (1-e)*inliers.shape[0]\n",
    "    votes = findfit(N,T,inliers,threshold)\n",
    "    pair = np.reshape(votes[1:],(2,3))\n",
    "    inliers = getInliers(pair,data,threshold)\n",
    "\n",
    "    plane = points2lines(pair)\n",
    "    plane = np.concatenate(plane)\n",
    "    rhotheta = plane2hough(plane)\n",
    "\n",
    "    print(plane)\n",
    "    print(rhotheta)\n",
    "    return inliers[:,0:2]"
   ]
  },
  {
   "cell_type": "code",
   "execution_count": 63,
   "metadata": {},
   "outputs": [],
   "source": [
    "file = 'edges.jpg'\n",
    "im = Image.open(file)\n",
    "\n",
    "r,c = im.size\n",
    "r = np.int(np.floor(r/5))\n",
    "c = np.int(np.floor(c/5))\n",
    "\n",
    "im = im.resize((r,c))\n",
    "gray = rgb2gray(im)"
   ]
  },
  {
   "cell_type": "code",
   "execution_count": 64,
   "metadata": {},
   "outputs": [
    {
     "data": {
      "text/plain": [
       "<matplotlib.image.AxesImage at 0x7fd476633190>"
      ]
     },
     "execution_count": 64,
     "metadata": {},
     "output_type": "execute_result"
    },
    {
     "data": {
      "image/png": "[encoded data removed]",
      "text/plain": [
       "<Figure size 432x288 with 1 Axes>"
      ]
     },
     "metadata": {
      "needs_background": "light"
     },
     "output_type": "display_data"
    }
   ],
   "source": [
    "dim = 7\n",
    "box = np.ones([dim,dim])/dim**2\n",
    "\n",
    "smooth = nd.convolve(gray,box)\n",
    "\n",
    "Ix = Sobelx(smooth)\n",
    "Iy = Sobely(smooth)\n",
    "mag = np.sqrt(Ix**2+Iy**2)\n",
    "\n",
    "threshold = 0.25\n",
    "mask = 1*( mag >= threshold*np.amax(mag))\n",
    "plt.imshow(mask, cmap='gray')"
   ]
  },
  {
   "cell_type": "code",
   "execution_count": 65,
   "metadata": {},
   "outputs": [
    {
     "name": "stdout",
     "output_type": "stream",
     "text": [
      "[  232.  -363. 37938.]\n",
      "[-88.06303243408003, -1.0021087710235703]\n",
      "2\n"
     ]
    },
    {
     "data": {
      "text/plain": [
       "<matplotlib.image.AxesImage at 0x7fd4767ffa30>"
      ]
     },
     "execution_count": 65,
     "metadata": {},
     "output_type": "execute_result"
    },
    {
     "data": {
      "image/png": "[encoded data removed]",
      "text/plain": [
       "<Figure size 432x288 with 1 Axes>"
      ]
     },
     "metadata": {
      "needs_background": "light"
     },
     "output_type": "display_data"
    }
   ],
   "source": [
    "edgels = np.where(mask==1)\n",
    "edgels = np.array(edgels).T\n",
    "\n",
    "# Execute RANSAC\n",
    "e = 0.75\n",
    "model = 2\n",
    "threshold = 5\n",
    "inliers = RANSAC(edgels,e,model,threshold)\n",
    "print(model)\n",
    "\n",
    "# Plot the results\n",
    "good = np.zeros([mask.shape[0], mask.shape[1]])\n",
    "good[inliers[:,0], inliers[:,1]] = 1\n",
    "plt.imshow(mask)\n",
    "plt.imshow(good, alpha = 0.8)"
   ]
  }
 ],
 "metadata": {
  "interpreter": {
   "hash": "916dbcbb3f70747c44a77c7bcd40155683ae19c65e1c03b4aa3499c5328201f1"
  },
  "kernelspec": {
   "display_name": "Python 3.9.5 64-bit",
   "name": "python3"
  },
  "language_info": {
   "codemirror_mode": {
    "name": "ipython",
    "version": 3
   },
   "file_extension": ".py",
   "mimetype": "text/x-python",
   "name": "python",
   "nbconvert_exporter": "python",
   "pygments_lexer": "ipython3",
   "version": "3.9.5"
  },
  "orig_nbformat": 4
 },
 "nbformat": 4,
 "nbformat_minor": 2
}
