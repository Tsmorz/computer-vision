{
 "cells": [
  {
   "cell_type": "markdown",
   "metadata": {},
   "source": [
    "# Hough Transform Testing"
   ]
  },
  {
   "cell_type": "code",
   "execution_count": 3510,
   "metadata": {},
   "outputs": [],
   "source": [
    "import numpy as np\n",
    "import math\n",
    "import matplotlib.pyplot as plt\n",
    "from scipy import ndimage as nd\n",
    "import random"
   ]
  },
  {
   "cell_type": "code",
   "execution_count": 3511,
   "metadata": {},
   "outputs": [],
   "source": [
    "# Find all normal lines from point pairs\n",
    "def points2lines(points):\n",
    "    lines = np.zeros([1,3])\n",
    "    r,c = points.shape\n",
    "    while(r>1):\n",
    "        for i in np.arange(1,r):\n",
    "            line = np.cross(points[0,:], points[i,:])\n",
    "            lines = np.vstack([lines, line])\n",
    "        points = points[1:,:]\n",
    "        r,c = points.shape\n",
    "    lines = lines[1:,:]\n",
    " \n",
    "    return lines\n",
    "\n",
    "# Convert linear eqn to rho-theta\n",
    "def plane2hough(lines):\n",
    "\n",
    "    slope = -lines[0]/lines[1]\n",
    "    theta = math.atan(-1/slope)\n",
    "    if theta !=(0):\n",
    "        b = -lines[2]/lines[1]\n",
    "        x = -b/(slope+1/slope)\n",
    "        y = slope*x + b\n",
    "        rho = x*np.cos(theta) + y*np.sin(theta)\n",
    "    else:\n",
    "        rho = -lines[2]/lines[0]\n",
    "    rhotheta = [rho, theta]\n",
    "\n",
    "    return rhotheta\n",
    "\n",
    "def gradientMag(image):\n",
    "    sobelx = np.array([[1,0,-1],\n",
    "                    [2,0,-2],\n",
    "                    [1,0,-1]])\n",
    "\n",
    "    sobely = np.array([[ 1, 2, 1],\n",
    "                    [ 0, 0, 0],\n",
    "                    [-1,-2,-1]])\n",
    "\n",
    "    Ix = nd.convolve(image,sobelx)\n",
    "    Iy = nd.convolve(image,sobely)\n",
    "    mag = np.sqrt(Ix**2+Iy**2)\n",
    "    return mag"
   ]
  },
  {
   "cell_type": "markdown",
   "metadata": {},
   "source": [
    "Create a test image of a square"
   ]
  },
  {
   "cell_type": "code",
   "execution_count": 3512,
   "metadata": {},
   "outputs": [
    {
     "data": {
      "text/plain": [
       "<matplotlib.image.AxesImage at 0x7fe83aba1820>"
      ]
     },
     "execution_count": 3512,
     "metadata": {},
     "output_type": "execute_result"
    },
    {
     "data": {
      "image/png": "[encoded data removed]",
      "text/plain": [
       "<Figure size 432x288 with 1 Axes>"
      ]
     },
     "metadata": {
      "needs_background": "light"
     },
     "output_type": "display_data"
    }
   ],
   "source": [
    "# Create image with lines\n",
    "r = 25\n",
    "c = r\n",
    "image = 100*np.ones([r,c])\n",
    "line = 155*np.eye(r)\n",
    "image = np.fliplr(image+line)\n",
    "image = image+line\n",
    "\n",
    "# Add noise to the image\n",
    "sigma = 20\n",
    "mean = 0\n",
    "noise = sigma*np.random.randn(r,c) + mean\n",
    "image = image+noise\n",
    "plt.imshow(image, cmap='gray', vmin=0, vmax=255)\n",
    "\n",
    "# Submax supression\n",
    "threshold = 0.3\n",
    "mask = 1*( image >= threshold*np.amax(image))\n",
    "edgels = np.where(mask==1)\n",
    "edgels = np.array(edgels).T\n",
    "plt.imshow(mask, cmap='gray')"
   ]
  },
  {
   "cell_type": "markdown",
   "metadata": {},
   "source": [
    "# RANSAC\n",
    "Random Sample Consensus"
   ]
  },
  {
   "cell_type": "code",
   "execution_count": 3513,
   "metadata": {},
   "outputs": [],
   "source": [
    "def RANSAC(data,model,threshold):\n",
    "    # probability that one sample is clean\n",
    "    p = 0.99\n",
    "    # probablility that point is an outlier\n",
    "    e = 0.8\n",
    "    # number of samples needed\n",
    "    N = np.log(1-p) / np.log(1-(1-e)**model)\n",
    "    N = np.int(np.round(N))\n",
    "\n",
    "    # [num of inliers, rho, theta, (x1,y1), (x2,y2)]\n",
    "    votes = np.zeros(9)\n",
    "    bestFit = 0\n",
    "\n",
    "    # Add a column of 1's to the end\n",
    "    r,c = data.shape\n",
    "    data = np.hstack([data, np.ones([r,1])])\n",
    "\n",
    "    i = 0\n",
    "    while i < N:\n",
    "        # Find two random edgels\n",
    "        pair = np.random.randint(data.shape[0],size=2)\n",
    "\n",
    "        # Insure pairs are unique\n",
    "        while pair[0] == pair[1]:\n",
    "            pair[1] = np.random.randint(data.shape[0])\n",
    "        pair = data[pair]\n",
    "\n",
    "        # Convert edgels to (a,b,c)\n",
    "        plane = points2lines(pair)\n",
    "        plane = np.concatenate(plane)\n",
    "\n",
    "        # Edgel distance to plane\n",
    "        plane_norm = np.sqrt(np.sum(plane[0:2]**2))\n",
    "        dist = np.abs(np.dot(data,plane.T)) / plane_norm\n",
    "\n",
    "        # Threshold distances\n",
    "        inliers = data[dist <= threshold]\n",
    "        num_inlier = np.sum(inliers[:,2])\n",
    "\n",
    "        if num_inlier > votes[0]:\n",
    "            votes = np.hstack([num_inlier, np.reshape(pair,6)])\n",
    "\n",
    "        i += 1\n",
    "    \n",
    "    # Refit with inliers\n",
    "    pair = np.reshape(votes[2:],(2,3))\n",
    "\n",
    "    # Convert edgels to (a,b,c)\n",
    "    plane = points2lines(pair)\n",
    "    plane = np.concatenate(plane)\n",
    "    \n",
    "    # Edgel distance to plane\n",
    "    plane_norm = np.sqrt(np.sum(plane[0:2]**2))\n",
    "    dist = np.abs(np.dot(data,plane.T)) / plane_norm\n",
    "    \n",
    "    inliers = data[dist <= threshold]\n",
    "    inliers = inliers.astype(int)\n",
    "\n",
    "    return inliers[:,0:2]\n"
   ]
  },
  {
   "cell_type": "code",
   "execution_count": 3514,
   "metadata": {},
   "outputs": [
    {
     "data": {
      "text/plain": [
       "<matplotlib.image.AxesImage at 0x7fe83aad09a0>"
      ]
     },
     "execution_count": 3514,
     "metadata": {},
     "output_type": "execute_result"
    },
    {
     "data": {
      "image/png": "[encoded data removed]",
      "text/plain": [
       "<Figure size 432x288 with 2 Axes>"
      ]
     },
     "metadata": {
      "needs_background": "light"
     },
     "output_type": "display_data"
    }
   ],
   "source": [
    "model = 2\n",
    "threshold = 1\n",
    "inliers = RANSAC(edgels,model,threshold)\n",
    "\n",
    "plt.subplot(1,2,1)\n",
    "plt.imshow(mask)\n",
    "\n",
    "plt.subplot(1,2,2)\n",
    "good = np.zeros([mask.shape[0], mask.shape[0]])\n",
    "good[inliers[:,0], inliers[:,1]] = 1\n",
    "plt.imshow(good)"
   ]
  }
 ],
 "metadata": {
  "interpreter": {
   "hash": "916dbcbb3f70747c44a77c7bcd40155683ae19c65e1c03b4aa3499c5328201f1"
  },
  "kernelspec": {
   "display_name": "Python 3.9.5 64-bit",
   "name": "python3"
  },
  "language_info": {
   "codemirror_mode": {
    "name": "ipython",
    "version": 3
   },
   "file_extension": ".py",
   "mimetype": "text/x-python",
   "name": "python",
   "nbconvert_exporter": "python",
   "pygments_lexer": "ipython3",
   "version": "3.9.5"
  },
  "orig_nbformat": 4
 },
 "nbformat": 4,
 "nbformat_minor": 2
}
