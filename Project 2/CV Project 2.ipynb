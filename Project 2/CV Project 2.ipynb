{
 "cells": [
  {
   "cell_type": "markdown",
   "metadata": {},
   "source": [
    "# Hough Transform Testing"
   ]
  },
  {
   "cell_type": "code",
   "execution_count": 4851,
   "metadata": {},
   "outputs": [],
   "source": [
    "import numpy as np\n",
    "import math\n",
    "import matplotlib.pyplot as plt\n",
    "from scipy import ndimage as nd\n",
    "import random"
   ]
  },
  {
   "cell_type": "code",
   "execution_count": 4852,
   "metadata": {},
   "outputs": [],
   "source": [
    "# Find all normal lines from point pairs\n",
    "def points2lines(points):\n",
    "    lines = np.zeros([1,3])\n",
    "    r,c = points.shape\n",
    "    while(r>1):\n",
    "        for i in np.arange(1,r):\n",
    "            line = np.cross(points[0,:], points[i,:])\n",
    "            lines = np.vstack([lines, line])\n",
    "        points = points[1:,:]\n",
    "        r,c = points.shape\n",
    "    lines = lines[1:,:]\n",
    " \n",
    "    return lines\n",
    "\n",
    "# Convert linear eqn to rho-theta\n",
    "def plane2hough(lines):\n",
    "\n",
    "    slope = -lines[0]/lines[1]\n",
    "    theta = math.atan(-1/slope)\n",
    "    if theta !=(0):\n",
    "        b = -lines[2]/lines[1]\n",
    "        x = -b/(slope+1/slope)\n",
    "        y = slope*x + b\n",
    "        rho = x*np.cos(theta) + y*np.sin(theta)\n",
    "    else:\n",
    "        rho = -lines[2]/lines[0]\n",
    "    rhotheta = [rho, theta]\n",
    "\n",
    "    return rhotheta\n",
    "\n",
    "def gradientMag(image):\n",
    "    sobelx = np.array([[1,0,-1],\n",
    "                    [2,0,-2],\n",
    "                    [1,0,-1]])\n",
    "\n",
    "    sobely = np.array([[ 1, 2, 1],\n",
    "                    [ 0, 0, 0],\n",
    "                    [-1,-2,-1]])\n",
    "\n",
    "    Ix = nd.convolve(image,sobelx)\n",
    "    Iy = nd.convolve(image,sobely)\n",
    "    mag = np.sqrt(Ix**2+Iy**2)\n",
    "    return mag"
   ]
  },
  {
   "cell_type": "markdown",
   "metadata": {},
   "source": [
    "Create a test image of a square"
   ]
  },
  {
   "cell_type": "code",
   "execution_count": 4853,
   "metadata": {},
   "outputs": [],
   "source": [
    "def diagImage(size,sigma,threshold):\n",
    "\n",
    "    # Create image with lines\n",
    "    r = 25\n",
    "    c = r\n",
    "    image = 100*np.ones([size,size])\n",
    "    line = 155*np.eye(size)\n",
    "    image = np.fliplr(image+line)\n",
    "    image = image+line\n",
    "\n",
    "    # Add noise to the image\n",
    "    mean = 0\n",
    "    noise = sigma*np.random.randn(size,size) + mean\n",
    "    image = image+noise\n",
    "    plt.imshow(image, cmap='gray', vmin=0, vmax=255)\n",
    "\n",
    "    # Submax supression\n",
    "    mask = 1*( image >= threshold*np.amax(image))\n",
    "    return mask"
   ]
  },
  {
   "cell_type": "markdown",
   "metadata": {},
   "source": [
    "# RANSAC\n",
    "\"The input to the RANSAC algorithm is a set of observed data values, a way of fitting some kind of model to the observations, and some confidence parameters. RANSAC achieves its goal by repeating the following steps:\n",
    "\n",
    "1. Select a random subset of the original data. Call this subset the hypothetical inliers.\n",
    "2. A model is fitted to the set of hypothetical inliers.\n",
    "3. All other data are then tested against the fitted model. Those points that fit the estimated model well, according to some model-specific loss function, are considered as part of the consensus set.\n",
    "4. The estimated model is reasonably good if sufficiently many points have been classified as part of the consensus set.\n",
    "5. Afterwards, the model may be improved by reestimating it using all members of the consensus set.\n",
    "\n",
    "This procedure is repeated a fixed number of times, each time producing either a model which is rejected because too few points are part of the consensus set, or a refined model together with a corresponding consensus set size. In the latter case, we keep the refined model if its consensus set is larger than the previously saved model.\"\n",
    "\n",
    "https://en.wikipedia.org/wiki/Random_sample_consensus"
   ]
  },
  {
   "cell_type": "code",
   "execution_count": 4854,
   "metadata": {},
   "outputs": [],
   "source": [
    "def RANSAC(data,e,model,threshold):\n",
    "    # probability that one sample is clean\n",
    "    p = 0.99\n",
    "    # probablility that point is an outlier\n",
    "    e = 0.95\n",
    "    # number of samples needed\n",
    "    N = np.log(1-p) / np.log(1-(1-e)**model)\n",
    "    N = np.int(np.round(N))\n",
    "\n",
    "    # [num of inliers, rho, theta, (x1,y1), (x2,y2)]\n",
    "    votes = np.zeros(9)\n",
    "    bestFit = 0\n",
    "\n",
    "    # Add a column of 1's to the end\n",
    "    r,c = data.shape\n",
    "    data = np.hstack([data, np.ones([r,1])])\n",
    "\n",
    "    i = 0\n",
    "    while i < N:\n",
    "        # Find two random edgels\n",
    "        pair = np.random.randint(data.shape[0],size=2)\n",
    "\n",
    "        # Insure pairs are unique\n",
    "        while pair[0] == pair[1]:\n",
    "            pair[1] = np.random.randint(data.shape[0])\n",
    "        pair = data[pair]\n",
    "\n",
    "        # Convert edgels to (a,b,c)\n",
    "        plane = points2lines(pair)\n",
    "        plane = np.concatenate(plane)\n",
    "\n",
    "        # Edgel distance to plane\n",
    "        plane_norm = np.sqrt(np.sum(plane[0:2]**2))\n",
    "        dist = np.abs(np.dot(data,plane.T)) / plane_norm\n",
    "\n",
    "        # Threshold distances\n",
    "        inliers = data[dist <= threshold]\n",
    "        num_inlier = np.sum(inliers[:,2])\n",
    "\n",
    "        if num_inlier > votes[0]:\n",
    "            votes = np.hstack([num_inlier, np.reshape(pair,6)])\n",
    "\n",
    "        i += 1\n",
    "    \n",
    "    # Refit with inliers\n",
    "    pair = np.reshape(votes[1:],(2,3))\n",
    "\n",
    "    # Convert edgels to (a,b,c)\n",
    "    plane = points2lines(pair)\n",
    "    plane = np.concatenate(plane)\n",
    "    \n",
    "    # Edgel distance to plane\n",
    "    plane_norm = np.sqrt(np.sum(plane[0:2]**2))\n",
    "    dist = np.abs(np.dot(data,plane.T)) / plane_norm\n",
    "    \n",
    "    inliers = data[dist <= threshold]\n",
    "    inliers = inliers.astype(int)\n",
    "\n",
    "    return inliers[:,0:2]\n"
   ]
  },
  {
   "cell_type": "code",
   "execution_count": 4856,
   "metadata": {},
   "outputs": [
    {
     "data": {
      "text/plain": [
       "<matplotlib.image.AxesImage at 0x7fe82e7e6640>"
      ]
     },
     "execution_count": 4856,
     "metadata": {},
     "output_type": "execute_result"
    },
    {
     "data": {
      "image/png": "[encoded data removed]",
      "text/plain": [
       "<Figure size 432x288 with 2 Axes>"
      ]
     },
     "metadata": {
      "needs_background": "light"
     },
     "output_type": "display_data"
    }
   ],
   "source": [
    "# Create noisy image with line\n",
    "size = 25\n",
    "sigma = 20\n",
    "threshold = 0.28\n",
    "mask = diagImage(size,sigma,threshold)\n",
    "edgels = np.where(mask==1)\n",
    "edgels = np.array(edgels).T\n",
    "\n",
    "# Execute RANSAC\n",
    "e = 0.9\n",
    "model = 2\n",
    "threshold = 0.5\n",
    "inliers = RANSAC(edgels,e,model,threshold)\n",
    "\n",
    "# Plot the results\n",
    "plt.subplot(1,2,1)\n",
    "plt.imshow(mask)\n",
    "\n",
    "good = np.zeros([mask.shape[0], mask.shape[0]])\n",
    "good[inliers[:,0], inliers[:,1]] = 1\n",
    "\n",
    "plt.subplot(1,2,2)\n",
    "plt.imshow(mask, cmap = 'gray')\n",
    "plt.imshow(good, alpha = 0.5)"
   ]
  }
 ],
 "metadata": {
  "interpreter": {
   "hash": "916dbcbb3f70747c44a77c7bcd40155683ae19c65e1c03b4aa3499c5328201f1"
  },
  "kernelspec": {
   "display_name": "Python 3.9.5 64-bit",
   "name": "python3"
  },
  "language_info": {
   "codemirror_mode": {
    "name": "ipython",
    "version": 3
   },
   "file_extension": ".py",
   "mimetype": "text/x-python",
   "name": "python",
   "nbconvert_exporter": "python",
   "pygments_lexer": "ipython3",
   "version": "3.9.5"
  },
  "orig_nbformat": 4
 },
 "nbformat": 4,
 "nbformat_minor": 2
}
