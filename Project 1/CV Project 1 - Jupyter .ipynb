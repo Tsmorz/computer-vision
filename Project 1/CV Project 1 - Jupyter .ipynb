{
 "cells": [
  {
   "cell_type": "markdown",
   "metadata": {},
   "source": [
    "# EECE 5639 - Project 1\n",
    "\n",
    "Matin Raayai Ardakani\n",
    "\n",
    "Tony Smoragiewicz\n",
    "\n",
    "Northeastern University\n",
    "\n",
    "Fall 2021"
   ]
  },
  {
   "cell_type": "code",
   "execution_count": 13,
   "metadata": {},
   "outputs": [],
   "source": [
    "import matplotlib.pyplot as plt\n",
    "import cv2\n",
    "import numpy as np\n",
    "import os\n",
    "import tqdm\n",
    "from scipy.ndimage import convolve, median_filter"
   ]
  },
  {
   "cell_type": "markdown",
   "metadata": {
    "pycharm": {
     "name": "#%% md\n"
    }
   },
   "source": [
    "### Dataset pre-processing"
   ]
  },
  {
   "cell_type": "code",
   "execution_count": 14,
   "metadata": {
    "collapsed": false,
    "pycharm": {
     "name": "#%%\n"
    }
   },
   "outputs": [],
   "source": [
    "\"\"\"\n",
    "Loads in images in a single folder and converts them to gray scale.\n",
    "The images are returned as a python list\n",
    "\"\"\"\n",
    "def load_images_from_folder(folder):\n",
    "    images = []\n",
    "    for filename in tqdm.tqdm(sorted(os.listdir(folder))):\n",
    "        img = cv2.imread(os.path.join(folder,filename))\n",
    "        if img is not None:\n",
    "            gray = np.sum(img, 2) / 3\n",
    "            images.append(gray)\n",
    "    return images\n",
    "\"\"\"\n",
    "Saves the temporal masks to the specified folder.\n",
    "\"\"\"\n",
    "def save_masks_to_folder(masks, folder):\n",
    "    for m in tqdm.tqdm(masks):\n",
    "        output_path = os.path.join(folder, f\"{i:4d}.png\")\n",
    "        cv2.imwrite(output_path, m.astype(np.uint8), cv2.IMWRITE_PAM_FORMAT_GRAYSCALE)"
   ]
  },
  {
   "cell_type": "code",
   "execution_count": 15,
   "metadata": {},
   "outputs": [
    {
     "name": "stderr",
     "output_type": "stream",
     "text": [
      "100%|██████████| 1070/1070 [00:01<00:00, 567.94it/s]\n",
      "100%|██████████| 353/353 [00:00<00:00, 586.73it/s]\n"
     ]
    },
    {
     "name": "stdout",
     "output_type": "stream",
     "text": [
      "Office dataset shape: (1070, 240, 320)\n",
      "Red chair dataset shape: (353, 240, 320)\n"
     ]
    }
   ],
   "source": [
    "office_dataset_path = \"../Datasets/Office/\"\n",
    "red_chair_dataset_path = \"../Datasets/RedChair\"\n",
    "office = np.array(load_images_from_folder(office_dataset_path))\n",
    "red_chair = np.array(load_images_from_folder(red_chair_dataset_path))\n",
    "\n",
    "print(f\"Office dataset shape: {office.shape}\")\n",
    "print(f\"Red chair dataset shape: {red_chair.shape}\")"
   ]
  },
  {
   "cell_type": "markdown",
   "metadata": {
    "pycharm": {
     "name": "#%% md\n"
    }
   },
   "source": [
    "### Filtering and Plotting Functions"
   ]
  },
  {
   "cell_type": "code",
   "execution_count": 20,
   "metadata": {
    "collapsed": false,
    "pycharm": {
     "name": "#%%\n"
    }
   },
   "outputs": [],
   "source": [
    "def abs_and_thres(masks, min_thres=0, max_thres=500):\n",
    "    masks = np.abs(masks)\n",
    "    return np.select([masks > min_thres, masks < max_thres],\n",
    "                 [np.ones_like(masks), np.zeros_like(masks)])\n",
    "\n",
    "def convolve_temporal_filter(images, temp_filter):\n",
    "    temp_filter = temp_filter.reshape(-1, 1, 1)\n",
    "    return convolve(images.astype(np.float64), temp_filter)\n",
    "\n",
    "def get_temporal_gaussian_1d(t_sigma):\n",
    "    output = [ - np.exp(- x**2 / (2 * t_sigma**2)) * x / (t_sigma**2) for x\n",
    "    in range(-5 * t_sigma, 5 * t_sigma + 1)]\n",
    "    output = np.array(output)\n",
    "    return output / output.sum()\n",
    "\n",
    "def get_spatial_gaussian_2d(s_sigma):\n",
    "    filt_rad = 5 * s_sigma\n",
    "    g_filt_2d = np.zeros((filt_rad, filt_rad), dtype=np.float64)\n",
    "    for i in range(filt_rad):\n",
    "        for j in range(filt_rad):\n",
    "            g_filt_2d[i, j] = np.exp(-((i - filt_rad)**2 + (j - filt_rad)**2) / (2 * s_sigma**2))\n",
    "    g_filt_2d = g_filt_2d / g_filt_2d.sum()\n",
    "    return g_filt_2d\n",
    "\n",
    "def apply_median_filter(images, kernel):\n",
    "    return median_filter(images, kernel)\n",
    "\n",
    "\n",
    "def convolve_spatial_filter(images, spatial_filter):\n",
    "    spatial_filter = spatial_filter.reshape(1,\n",
    "                                            spatial_filter.shape[0],\n",
    "                                            spatial_filter.shape[1])\n",
    "    return convolve(images, spatial_filter)"
   ]
  },
  {
   "cell_type": "markdown",
   "metadata": {
    "collapsed": false,
    "pycharm": {
     "name": "#%% md\n"
    }
   },
   "source": [
    "### Spatial and Temporal Filters"
   ]
  },
  {
   "cell_type": "code",
   "execution_count": 17,
   "metadata": {
    "collapsed": false,
    "pycharm": {
     "name": "#%%\n"
    }
   },
   "outputs": [],
   "source": [
    "naive_temp_filter = 0.5 * np.array([-1.,0.,1.])"
   ]
  },
  {
   "cell_type": "markdown",
   "metadata": {
    "collapsed": false,
    "pycharm": {
     "name": "#%% md\n"
    }
   },
   "source": [
    "## Experiments"
   ]
  },
  {
   "cell_type": "markdown",
   "metadata": {
    "collapsed": false,
    "pycharm": {
     "name": "#%% md\n"
    }
   },
   "source": [
    "### b.i. Naive Temporal Filtering"
   ]
  },
  {
   "cell_type": "code",
   "execution_count": 18,
   "metadata": {
    "collapsed": false,
    "pycharm": {
     "name": "#%%\n"
    }
   },
   "outputs": [],
   "source": [
    "office_exp_1 = convolve_temporal_filter(office, naive_temp_filter)\n",
    "office_exp_1 = abs_and_thres(office_exp_1, 10, 200)\n",
    "red_chair_exp_1 = convolve_temporal_filter(red_chair, naive_temp_filter)\n",
    "red_chair_exp_1 = abs_and_thres(red_chair_exp_1, 10, 200)"
   ]
  },
  {
   "cell_type": "markdown",
   "metadata": {
    "pycharm": {
     "name": "#%% md\n"
    }
   },
   "source": [
    "### b.ii. Temporal denoising with spatial pre-processing"
   ]
  },
  {
   "cell_type": "code",
   "execution_count": 25,
   "metadata": {
    "collapsed": false,
    "pycharm": {
     "name": "#%%\n"
    }
   },
   "outputs": [],
   "source": [
    "# create kernels\n",
    "box3 = np.ones([3,3])\n",
    "box5 = np.ones([5,5])\n",
    "sigma = 1\n",
    "gauss2d = get_spatial_gaussian_2d(sigma)\n",
    "\n",
    "# smooth office images\n",
    "office_exp_2_b3 = convolve_spatial_filter(office,box3)\n",
    "office_exp_2_b5 = convolve_spatial_filter(office,box5)\n",
    "office_exp_2_gauss = convolve_spatial_filter(office,gauss2d)\n",
    "\n",
    "# smooth red_chair images\n",
    "red_chair_exp_2_b3 = convolve_spatial_filter(red_chair,box3)\n",
    "red_chair_exp_2_b5 = convolve_spatial_filter(red_chair,box5)\n",
    "red_chair_exp_2_gauss = convolve_spatial_filter(red_chair,gauss2d)"
   ]
  },
  {
   "cell_type": "code",
   "execution_count": 26,
   "metadata": {},
   "outputs": [],
   "source": [
    "# apply temporal filter\n",
    "office_exp_2_b3 = convolve_temporal_filter(office_exp_2_b3, naive_temp_filter)\n",
    "office_exp_2_b5 = convolve_temporal_filter(office_exp_2_b3, naive_temp_filter)\n",
    "office_exp_2_gauss = convolve_temporal_filter(office_exp_2_b3, naive_temp_filter)\n",
    "\n",
    "red_chair_exp_2_b3 = convolve_temporal_filter(office_exp_2_b3, naive_temp_filter)\n",
    "red_chair_exp_2_b5 = convolve_temporal_filter(office_exp_2_b3, naive_temp_filter)\n",
    "red_chair_exp_2_gauss = convolve_temporal_filter(office_exp_2_b3, naive_temp_filter)"
   ]
  },
  {
   "cell_type": "code",
   "execution_count": 32,
   "metadata": {},
   "outputs": [
    {
     "data": {
      "text/plain": [
       "<matplotlib.image.AxesImage at 0x7f6b96d138b0>"
      ]
     },
     "execution_count": 32,
     "metadata": {},
     "output_type": "execute_result"
    },
    {
     "data": {
      "image/png": "[encoded data removed]",
      "text/plain": [
       "<Figure size 432x288 with 4 Axes>"
      ]
     },
     "metadata": {
      "needs_background": "light"
     },
     "output_type": "display_data"
    }
   ],
   "source": [
    "im = 62\n",
    "plt.subplot(1,4,4)\n",
    "plt.imshow(red_chair[im,:,:], cmap='gray', vmin=0, vmax=255)\n",
    "plt.show()\n",
    "\n",
    "plt.subplot(1,4,1)\n",
    "plt.imshow(red_chair_exp_2_b3[im,:,:], cmap='gray', vmin=0, vmax=255)\n",
    "\n",
    "plt.subplot(1,4,2)\n",
    "plt.imshow(red_chair_exp_2_b5[im,:,:], cmap='gray', vmin=0, vmax=255)\n",
    "\n",
    "plt.subplot(1,4,3)\n",
    "plt.imshow(red_chair_exp_2_gauss[im,:,:], cmap='gray', vmin=0, vmax=255)"
   ]
  },
  {
   "cell_type": "code",
   "execution_count": 19,
   "metadata": {},
   "outputs": [
    {
     "ename": "NameError",
     "evalue": "name 'temp_median' is not defined",
     "output_type": "error",
     "traceback": [
      "\u001b[0;31m---------------------------------------------------------------------------\u001b[0m",
      "\u001b[0;31mNameError\u001b[0m                                 Traceback (most recent call last)",
      "\u001b[0;32m/tmp/ipykernel_10535/2181788781.py\u001b[0m in \u001b[0;36m<module>\u001b[0;34m\u001b[0m\n\u001b[1;32m      2\u001b[0m \u001b[0mplt\u001b[0m\u001b[0;34m.\u001b[0m\u001b[0msubplot\u001b[0m\u001b[0;34m(\u001b[0m\u001b[0;34m)\u001b[0m\u001b[0;34m\u001b[0m\u001b[0;34m\u001b[0m\u001b[0m\n\u001b[1;32m      3\u001b[0m \u001b[0mim\u001b[0m \u001b[0;34m=\u001b[0m \u001b[0mnp\u001b[0m\u001b[0;34m.\u001b[0m\u001b[0mrandom\u001b[0m\u001b[0;34m.\u001b[0m\u001b[0mrandint\u001b[0m\u001b[0;34m(\u001b[0m\u001b[0midx\u001b[0m\u001b[0;34m)\u001b[0m\u001b[0;34m\u001b[0m\u001b[0;34m\u001b[0m\u001b[0m\n\u001b[0;32m----> 4\u001b[0;31m \u001b[0mplt\u001b[0m\u001b[0;34m.\u001b[0m\u001b[0mimshow\u001b[0m\u001b[0;34m(\u001b[0m\u001b[0mtemp_median\u001b[0m\u001b[0;34m[\u001b[0m\u001b[0mim\u001b[0m\u001b[0;34m,\u001b[0m\u001b[0;34m:\u001b[0m\u001b[0;34m,\u001b[0m\u001b[0;34m:\u001b[0m\u001b[0;34m]\u001b[0m\u001b[0;34m,\u001b[0m \u001b[0mcmap\u001b[0m\u001b[0;34m=\u001b[0m\u001b[0;34m'gray'\u001b[0m\u001b[0;34m,\u001b[0m \u001b[0mvmin\u001b[0m\u001b[0;34m=\u001b[0m\u001b[0;36m0\u001b[0m\u001b[0;34m,\u001b[0m \u001b[0mvmax\u001b[0m\u001b[0;34m=\u001b[0m\u001b[0;36m255\u001b[0m\u001b[0;34m)\u001b[0m\u001b[0;34m\u001b[0m\u001b[0;34m\u001b[0m\u001b[0m\n\u001b[0m\u001b[1;32m      5\u001b[0m \u001b[0mprint\u001b[0m\u001b[0;34m(\u001b[0m\u001b[0mim\u001b[0m\u001b[0;34m)\u001b[0m\u001b[0;34m\u001b[0m\u001b[0;34m\u001b[0m\u001b[0m\n",
      "\u001b[0;31mNameError\u001b[0m: name 'temp_median' is not defined"
     ]
    },
    {
     "data": {
      "image/png": "[encoded data removed]",
      "text/plain": [
       "<Figure size 432x288 with 1 Axes>"
      ]
     },
     "metadata": {
      "needs_background": "light"
     },
     "output_type": "display_data"
    }
   ],
   "source": [
    "plt.subplot()\n",
    "im = np.random.randint(idx)\n",
    "plt.imshow(temp_median[im,:,:], cmap='gray', vmin=0, vmax=255)\n",
    "print(im)"
   ]
  },
  {
   "cell_type": "code",
   "execution_count": null,
   "metadata": {},
   "outputs": [],
   "source": [
    "# Temporal gradient\n",
    "motion = np.zeros((idx-1, r, c))\n",
    "for i in range(idx-1):\n",
    "    temp_grad = denoise[i,:,:] - temp_median[i-1,:,:]\n",
    "    #temp_grad = 0.5*(denoise[i+1,:,:] - denoise[i-1,:,:])\n",
    "    motion[i,:,:] = np.abs(temp_grad)\n",
    "    motion[i,:,:] = temp_grad**2/255\n",
    "noise_line  = np.reshape(motion, ((idx-1)*r*c, 1) )\n",
    "\n",
    "plt.subplot()\n",
    "plt.hist(noise_line, bins=255)\n",
    "plt.ylim([0,100000])\n",
    "plt.xlim([1,255])"
   ]
  },
  {
   "cell_type": "code",
   "execution_count": null,
   "metadata": {},
   "outputs": [],
   "source": [
    "# Apply a threshold\n",
    "mask = np.zeros((idx-1, r, c))\n",
    "threshold = 5\n",
    "for i in range(idx-1):\n",
    "    mask[i] = (motion[i,:,:] > threshold)*images[i,:,:]\n",
    "mask_line  = np.reshape(mask, ((idx-1)*r*c, 1) )\n",
    "\n",
    "plt.subplot()\n",
    "plt.hist(mask_line, bins=255)\n",
    "plt.ylim([0,100000])\n",
    "plt.xlim([1,255])"
   ]
  },
  {
   "cell_type": "code",
   "execution_count": null,
   "metadata": {},
   "outputs": [],
   "source": [
    "# Tough Images\n",
    "plt.subplot()\n",
    "im = 188\n",
    "plt.imshow(motion[im,:,:], cmap='gray', vmin=0, vmax=255)\n",
    "print(im)\n",
    "print(np.amax(motion[im,:,:]))"
   ]
  },
  {
   "cell_type": "code",
   "execution_count": null,
   "metadata": {},
   "outputs": [],
   "source": [
    "plt.subplot()\n",
    "im = np.random.randint(idx)\n",
    "im = 62\n",
    "plt.imshow(mask[im,:,:], cmap='gray', vmin=0, vmax=255)\n",
    "print(im)\n",
    "print(np.amax(mask[im,:,:]))"
   ]
  },
  {
   "cell_type": "code",
   "execution_count": null,
   "metadata": {},
   "outputs": [],
   "source": [
    "im = np.random.randint(idx)\n",
    "im = 62\n",
    "print(im)\n",
    "plt.subplot()\n",
    "plt.imshow(images[im,:,:], cmap='gray', vmin=0, vmax=255)\n",
    "plt.imshow(mask[im,:,:], cmap='jet', alpha=0.5, vmin=0, vmax=255)"
   ]
  }
 ],
 "metadata": {
  "interpreter": {
   "hash": "916dbcbb3f70747c44a77c7bcd40155683ae19c65e1c03b4aa3499c5328201f1"
  },
  "kernelspec": {
   "display_name": "Python 3.9.5 64-bit",
   "name": "python3"
  },
  "language_info": {
   "codemirror_mode": {
    "name": "ipython",
    "version": 3
   },
   "file_extension": ".py",
   "mimetype": "text/x-python",
   "name": "python",
   "nbconvert_exporter": "python",
   "pygments_lexer": "ipython3",
   "version": "3.9.5"
  }
 },
 "nbformat": 4,
 "nbformat_minor": 5
}
