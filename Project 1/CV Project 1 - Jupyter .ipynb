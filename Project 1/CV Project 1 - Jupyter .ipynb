{
 "cells": [
  {
   "cell_type": "markdown",
   "metadata": {},
   "source": [
    "# EECE 5639 - Project 1\n",
    "\n",
    "Matin Raayai Ardakani\n",
    "\n",
    "Tony Smoragiewicz\n",
    "\n",
    "Northeastern University\n",
    "\n",
    "Fall 2021"
   ]
  },
  {
   "cell_type": "code",
   "execution_count": 6,
   "metadata": {},
   "outputs": [],
   "source": [
    "import matplotlib.pyplot as plt\n",
    "import cv2\n",
    "import numpy as np\n",
    "import os\n",
    "import tqdm\n",
    "from scipy.ndimage import convolve, median_filter"
   ]
  },
  {
   "cell_type": "markdown",
   "metadata": {
    "pycharm": {
     "name": "#%% md\n"
    }
   },
   "source": [
    "### Dataset pre-processing"
   ]
  },
  {
   "cell_type": "code",
   "execution_count": 7,
   "outputs": [],
   "source": [
    "\"\"\"\n",
    "Loads in images in a single folder and converts them to gray scale.\n",
    "The images are returned as a python list\n",
    "\"\"\"\n",
    "def load_images_from_folder(folder):\n",
    "    images = []\n",
    "    for filename in tqdm.tqdm(sorted(os.listdir(folder))):\n",
    "        img = cv2.imread(os.path.join(folder,filename))\n",
    "        if img is not None:\n",
    "            gray = np.sum(img, 2) / 3\n",
    "            images.append(gray)\n",
    "    return images"
   ],
   "metadata": {
    "collapsed": false,
    "pycharm": {
     "name": "#%%\n"
    }
   }
  },
  {
   "cell_type": "code",
   "execution_count": 8,
   "metadata": {},
   "outputs": [
    {
     "name": "stderr",
     "output_type": "stream",
     "text": [
      "100%|██████████| 1070/1070 [00:02<00:00, 377.12it/s]\n",
      "100%|██████████| 353/353 [00:00<00:00, 354.07it/s]\n"
     ]
    },
    {
     "name": "stdout",
     "output_type": "stream",
     "text": [
      "Office dataset shape: (1070, 240, 320)\n",
      "Red chair dataset shape: (353, 240, 320)\n"
     ]
    }
   ],
   "source": [
    "office_dataset_path = \"../Datasets/Office/\"\n",
    "red_chair_dataset_path = \"../Datasets/RedChair\"\n",
    "office = np.array(load_images_from_folder(office_dataset_path))\n",
    "red_chair = np.array(load_images_from_folder(red_chair_dataset_path))\n",
    "\n",
    "print(f\"Office dataset shape: {office.shape}\")\n",
    "print(f\"Red chair dataset shape: {red_chair.shape}\")"
   ]
  },
  {
   "cell_type": "markdown",
   "metadata": {
    "pycharm": {
     "name": "#%% md\n"
    }
   },
   "source": [
    "### Filtering and Plotting Functions"
   ],
   "execution_count": 9
  },
  {
   "cell_type": "code",
   "execution_count": null,
   "outputs": [],
   "source": [
    "def convolve_temporal_filter(images, temp_filter):\n",
    "    temp_filter = temp_filter.reshape(-1, 1, 1)\n",
    "    return convolve(images.astype(np.float64), temp_filter)\n",
    "\n",
    "def apply_median_filter(images, kernel):\n",
    "    return median_filter(images, kernel)\n",
    "    # # Temporal median filter\n",
    "    # temp_median = np.zeros((idx-1, r, c))\n",
    "    # for i in range(idx-5):\n",
    "    #     median5 = [denoise[i,:,:], denoise[i+1,:,:], denoise[i+2,:,:], denoise[i+3,:,:], denoise[i+4,:,:]]\n",
    "    #     median5 = np.array(median5)\n",
    "    #     median5 = np.median(median5,axis=0)\n",
    "    #     temp_median[i,:,:] = median5\n",
    "\n",
    "def abs_and_thres(masks, min_thres=0, max_thres=500):\n",
    "    masks = np.abs(masks)\n",
    "    return np.select([masks > min_thres, masks < max_thres],\n",
    "                 [np.ones_like(masks), np.zeros_like(masks)])\n",
    "\n",
    "def convolve_spatial_filter(images, spatial_filter):\n",
    "    spatial_filter = spatial_filter.reshape(1,\n",
    "                                            spatial_filter.shape[0],\n",
    "                                            spatial_filter.shape[1])\n",
    "    return convolve(images, spatial_filter)"
   ],
   "metadata": {
    "collapsed": false,
    "pycharm": {
     "name": "#%%\n"
    }
   }
  },
  {
   "cell_type": "markdown",
   "source": [
    "### Spatial and Temporal Filters"
   ],
   "metadata": {
    "collapsed": false,
    "pycharm": {
     "name": "#%% md\n"
    }
   }
  },
  {
   "cell_type": "code",
   "execution_count": null,
   "outputs": [],
   "source": [
    "naive_temp_filter = 0.5 * np.array([-1.,0.,1.])\n",
    "\n",
    "frame = 215\n",
    "frames = [images[frame-1,:,:],images[frame,:,:],images[frame+1,:,:]]\n",
    "im_mask = np.tensordot(temporal_filter,frames,axes=(0,0))\n",
    "\n",
    "plt.imshow(im_mask, cmap='gray', vmin=0, vmax=255)\n",
    "plt.show()"
   ],
   "metadata": {
    "collapsed": false,
    "pycharm": {
     "name": "#%%\n"
    }
   }
  },
  {
   "cell_type": "code",
   "execution_count": null,
   "metadata": {},
   "outputs": [],
   "source": [
    "# Spatial median filter\n",
    "denoise = np.zeros((idx-1, r, c))\n",
    "for i in range(idx-1):\n",
    "    #denoise[i,:,:] = cv2.filter2D(src=images[i,:,:], ddepth=-1, kernel=gaussian)\n",
    "    denoise[i,:,:] = cv2.medianBlur(images[i,:,:], 3)"
   ]
  },
  {
   "cell_type": "code",
   "execution_count": null,
   "metadata": {},
   "outputs": [],
   "source": []
  },
  {
   "cell_type": "code",
   "execution_count": null,
   "metadata": {},
   "outputs": [],
   "source": [
    "plt.subplot()\n",
    "im = np.random.randint(idx)\n",
    "plt.imshow(temp_median[im,:,:], cmap='gray', vmin=0, vmax=255)\n",
    "print(im)"
   ]
  },
  {
   "cell_type": "code",
   "execution_count": null,
   "metadata": {},
   "outputs": [],
   "source": [
    "# Temporal gradient\n",
    "motion = np.zeros((idx-1, r, c))\n",
    "for i in range(idx-1):\n",
    "    temp_grad = denoise[i,:,:] - temp_median[i-1,:,:]\n",
    "    #temp_grad = 0.5*(denoise[i+1,:,:] - denoise[i-1,:,:])\n",
    "    motion[i,:,:] = np.abs(temp_grad)\n",
    "    motion[i,:,:] = temp_grad**2/255\n",
    "noise_line  = np.reshape(motion, ((idx-1)*r*c, 1) )\n",
    "\n",
    "plt.subplot()\n",
    "plt.hist(noise_line, bins=255)\n",
    "plt.ylim([0,100000])\n",
    "plt.xlim([1,255])"
   ]
  },
  {
   "cell_type": "code",
   "execution_count": null,
   "metadata": {},
   "outputs": [],
   "source": [
    "# Apply a threshold\n",
    "mask = np.zeros((idx-1, r, c))\n",
    "threshold = 5\n",
    "for i in range(idx-1):\n",
    "    mask[i] = (motion[i,:,:] > threshold)*images[i,:,:]\n",
    "mask_line  = np.reshape(mask, ((idx-1)*r*c, 1) )\n",
    "\n",
    "plt.subplot()\n",
    "plt.hist(mask_line, bins=255)\n",
    "plt.ylim([0,100000])\n",
    "plt.xlim([1,255])"
   ]
  },
  {
   "cell_type": "code",
   "execution_count": null,
   "metadata": {},
   "outputs": [],
   "source": [
    "# Tough Images\n",
    "plt.subplot()\n",
    "im = 188\n",
    "plt.imshow(motion[im,:,:], cmap='gray', vmin=0, vmax=255)\n",
    "print(im)\n",
    "print(np.amax(motion[im,:,:]))"
   ]
  },
  {
   "cell_type": "code",
   "execution_count": null,
   "metadata": {},
   "outputs": [],
   "source": [
    "plt.subplot()\n",
    "im = np.random.randint(idx)\n",
    "im = 62\n",
    "plt.imshow(mask[im,:,:], cmap='gray', vmin=0, vmax=255)\n",
    "print(im)\n",
    "print(np.amax(mask[im,:,:]))"
   ]
  },
  {
   "cell_type": "code",
   "execution_count": null,
   "metadata": {},
   "outputs": [],
   "source": [
    "im = np.random.randint(idx)\n",
    "im = 62\n",
    "print(im)\n",
    "plt.subplot()\n",
    "plt.imshow(images[im,:,:], cmap='gray', vmin=0, vmax=255)\n",
    "plt.imshow(mask[im,:,:], cmap='jet', alpha=0.5, vmin=0, vmax=255)"
   ]
  }
 ],
 "metadata": {
  "interpreter": {
   "hash": "916dbcbb3f70747c44a77c7bcd40155683ae19c65e1c03b4aa3499c5328201f1"
  },
  "kernelspec": {
   "name": "python3",
   "language": "python",
   "display_name": "Python 3 (ipykernel)"
  },
  "language_info": {
   "codemirror_mode": {
    "name": "ipython",
    "version": 3
   },
   "file_extension": ".py",
   "mimetype": "text/x-python",
   "name": "python",
   "nbconvert_exporter": "python",
   "pygments_lexer": "ipython3",
   "version": "3.9.5"
  }
 },
 "nbformat": 4,
 "nbformat_minor": 5
}