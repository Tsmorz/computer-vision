{
 "cells": [
  {
   "cell_type": "code",
   "execution_count": null,
   "metadata": {},
   "outputs": [],
   "source": [
    "plt.imshow(gray1,cmap='gray')\n",
    "plt.imshow(corners1>0,cmap='gray',alpha=0.5)\n",
    "\n",
    "plt.axis('off')\n",
    "plt.savefig('k0600.png', dpi=200, bbox_inches='tight', pad_inches=0)"
   ]
  },
  {
   "cell_type": "code",
   "execution_count": null,
   "metadata": {},
   "outputs": [],
   "source": [
    "from PIL import Image\n",
    "from PIL import ImageDraw\n",
    "from PIL import ImageFont\n",
    "def watermark_text(input_image_path,\n",
    "                   output_image_path,\n",
    "                   text, pos):\n",
    "    photo = Image.open(input_image_path)\n",
    "    # make the image editable\n",
    "    drawing = ImageDraw.Draw(photo)\n",
    "    black = (3, 8, 12)\n",
    "    font = ImageFont.truetype(\"Pillow/Tests/fonts/FreeMono.ttf\", 40)\n",
    "    drawing.text(pos, text, fill=black, font=font)\n",
    "    photo.show()\n",
    "    photo.save(output_image_path)\n",
    "\n",
    "'''\n",
    "if __name__ == '__main__':\n",
    "    img = 'lighthouse.jpg'\n",
    "    watermark_text(img, 'lighthouse_watermarked.jpg',\n",
    "                   text='www.mousevspython.com',\n",
    "                   pos=(0, 0))\n",
    "'''"
   ]
  },
  {
   "cell_type": "code",
   "execution_count": null,
   "metadata": {},
   "outputs": [],
   "source": [
    "watermark_text('k0600.png','Report Images/k0600-wm.png','k=0.05',(0,0))"
   ]
  }
 ],
 "metadata": {
  "language_info": {
   "name": "python"
  },
  "orig_nbformat": 4
 },
 "nbformat": 4,
 "nbformat_minor": 2
}
