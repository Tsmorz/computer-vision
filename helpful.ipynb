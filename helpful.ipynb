{
 "cells": [
  {
   "cell_type": "code",
   "execution_count": null,
   "metadata": {},
   "outputs": [],
   "source": [
    "plt.imshow(gray1,cmap='gray')\n",
    "plt.imshow(corners1>0,cmap='gray',alpha=0.5)\n",
    "\n",
    "plt.axis('off')\n",
    "plt.savefig('k0600.png', dpi=200, bbox_inches='tight', pad_inches=0)"
   ]
  },
  {
   "cell_type": "code",
   "execution_count": null,
   "metadata": {},
   "outputs": [],
   "source": [
    "from PIL import Image\n",
    "from PIL import ImageDraw\n",
    "from PIL import ImageFont\n",
    "def watermark_text(input_image_path,\n",
    "                   output_image_path,\n",
    "                   text, pos):\n",
    "    photo = Image.open(input_image_path)\n",
    "    # make the image editable\n",
    "    drawing = ImageDraw.Draw(photo)\n",
    "    black = (3, 8, 12)\n",
    "    font = ImageFont.truetype(\"Pillow/Tests/fonts/FreeMono.ttf\", 40)\n",
    "    drawing.text(pos, text, fill=black, font=font)\n",
    "    photo.show()\n",
    "    photo.save(output_image_path)"
   ]
  },
  {
   "cell_type": "code",
   "execution_count": null,
   "metadata": {},
   "outputs": [],
   "source": [
    "watermark_text('k0600.png','Report Images/k0600-wm.png','k=0.05',(0,0))"
   ]
  },
  {
   "cell_type": "code",
   "execution_count": null,
   "metadata": {},
   "outputs": [],
   "source": [
    "# Find sparse corners\n",
    "print('Finding corners...')\n",
    "width = 7\n",
    "\n",
    "k = 0.05\n",
    "for density in np.logspace(1.7, 3, 10, endpoint=True):\n",
    "    density = round(density)\n",
    "    print(density)\n",
    "    \n",
    "    corners1 = reducedHarris(im1,width,k,density)\n",
    "    #corners2 = reducedHarris(im2,width,k,density)\n",
    "\n",
    "    plt.imshow(gray1,cmap='gray')\n",
    "    plt.imshow(corners1>0,cmap='gray',alpha=0.5)\n",
    "\n",
    "    plt.axis('off')\n",
    "    name = 'Report Images/' + 'Density' + str(density) + '.png'\n",
    "    print(name)\n",
    "    plt.savefig(name, dpi=200, bbox_inches='tight', pad_inches=0)\n",
    "    watermark_text(name,name,'px per corner='+str(density),(0,0))\n",
    "    \n"
   ]
  }
 ],
 "metadata": {
  "language_info": {
   "name": "python"
  },
  "orig_nbformat": 4
 },
 "nbformat": 4,
 "nbformat_minor": 2
}
